{
 "cells": [
  {
   "cell_type": "markdown",
   "id": "c48ada54",
   "metadata": {},
   "source": [
    "# Analisis Netflix  \n",
    "**Librerias**"
   ]
  },
  {
   "cell_type": "code",
   "execution_count": 1,
   "id": "468cda5f",
   "metadata": {},
   "outputs": [],
   "source": [
    "import pandas as pd\n",
    "import numpy as np\n",
    "import matplotlib.pyplot as plt \n",
    "import seaborn as sns"
   ]
  },
  {
   "cell_type": "markdown",
   "id": "f4c08811",
   "metadata": {},
   "source": [
    "## carga de los datos"
   ]
  },
  {
   "cell_type": "code",
   "execution_count": 2,
   "id": "5691be75",
   "metadata": {},
   "outputs": [],
   "source": [
    "df = pd.read_csv('NetflixViewingHistory.csv', parse_dates=['Date'])"
   ]
  },
  {
   "cell_type": "code",
   "execution_count": 3,
   "id": "18820f30",
   "metadata": {},
   "outputs": [
    {
     "data": {
      "text/html": [
       "<div>\n",
       "<style scoped>\n",
       "    .dataframe tbody tr th:only-of-type {\n",
       "        vertical-align: middle;\n",
       "    }\n",
       "\n",
       "    .dataframe tbody tr th {\n",
       "        vertical-align: top;\n",
       "    }\n",
       "\n",
       "    .dataframe thead th {\n",
       "        text-align: right;\n",
       "    }\n",
       "</style>\n",
       "<table border=\"1\" class=\"dataframe\">\n",
       "  <thead>\n",
       "    <tr style=\"text-align: right;\">\n",
       "      <th></th>\n",
       "      <th>Title</th>\n",
       "      <th>Date</th>\n",
       "    </tr>\n",
       "  </thead>\n",
       "  <tbody>\n",
       "    <tr>\n",
       "      <th>0</th>\n",
       "      <td>The Social Dilemma</td>\n",
       "      <td>2020-10-29</td>\n",
       "    </tr>\n",
       "    <tr>\n",
       "      <th>1</th>\n",
       "      <td>The Intern</td>\n",
       "      <td>2020-10-28</td>\n",
       "    </tr>\n",
       "    <tr>\n",
       "      <th>2</th>\n",
       "      <td>Moneyball</td>\n",
       "      <td>2020-10-28</td>\n",
       "    </tr>\n",
       "    <tr>\n",
       "      <th>3</th>\n",
       "      <td>Emily in Paris: Season 1: Emily in Paris</td>\n",
       "      <td>2020-10-28</td>\n",
       "    </tr>\n",
       "    <tr>\n",
       "      <th>4</th>\n",
       "      <td>The End of the F***ing World: Season 1: Episode 1</td>\n",
       "      <td>2020-10-28</td>\n",
       "    </tr>\n",
       "  </tbody>\n",
       "</table>\n",
       "</div>"
      ],
      "text/plain": [
       "                                               Title       Date\n",
       "0                                 The Social Dilemma 2020-10-29\n",
       "1                                         The Intern 2020-10-28\n",
       "2                                          Moneyball 2020-10-28\n",
       "3           Emily in Paris: Season 1: Emily in Paris 2020-10-28\n",
       "4  The End of the F***ing World: Season 1: Episode 1 2020-10-28"
      ]
     },
     "execution_count": 3,
     "metadata": {},
     "output_type": "execute_result"
    }
   ],
   "source": [
    "df.head()"
   ]
  },
  {
   "cell_type": "code",
   "execution_count": 4,
   "id": "08670b40",
   "metadata": {},
   "outputs": [
    {
     "data": {
      "text/plain": [
       "(240, 2)"
      ]
     },
     "execution_count": 4,
     "metadata": {},
     "output_type": "execute_result"
    }
   ],
   "source": [
    "#Cantidad de filas y columnas\n",
    "df.shape"
   ]
  },
  {
   "cell_type": "code",
   "execution_count": 5,
   "id": "3d4ee61a",
   "metadata": {},
   "outputs": [
    {
     "name": "stdout",
     "output_type": "stream",
     "text": [
      "<class 'pandas.core.frame.DataFrame'>\n",
      "RangeIndex: 240 entries, 0 to 239\n",
      "Data columns (total 2 columns):\n",
      " #   Column  Non-Null Count  Dtype         \n",
      "---  ------  --------------  -----         \n",
      " 0   Title   240 non-null    object        \n",
      " 1   Date    240 non-null    datetime64[ns]\n",
      "dtypes: datetime64[ns](1), object(1)\n",
      "memory usage: 3.9+ KB\n"
     ]
    }
   ],
   "source": [
    "#Información general\n",
    "df.info()"
   ]
  },
  {
   "cell_type": "markdown",
   "id": "0338b31b",
   "metadata": {},
   "source": [
    "**Comentario**  \n",
    "- existe un patron en el titulo que divide en partes por medio de los dos puntos"
   ]
  },
  {
   "cell_type": "code",
   "execution_count": 6,
   "id": "859dbf34",
   "metadata": {},
   "outputs": [
    {
     "data": {
      "text/html": [
       "<div>\n",
       "<style scoped>\n",
       "    .dataframe tbody tr th:only-of-type {\n",
       "        vertical-align: middle;\n",
       "    }\n",
       "\n",
       "    .dataframe tbody tr th {\n",
       "        vertical-align: top;\n",
       "    }\n",
       "\n",
       "    .dataframe thead th {\n",
       "        text-align: right;\n",
       "    }\n",
       "</style>\n",
       "<table border=\"1\" class=\"dataframe\">\n",
       "  <thead>\n",
       "    <tr style=\"text-align: right;\">\n",
       "      <th></th>\n",
       "      <th>Title</th>\n",
       "    </tr>\n",
       "  </thead>\n",
       "  <tbody>\n",
       "    <tr>\n",
       "      <th>0</th>\n",
       "      <td>[The Social Dilemma]</td>\n",
       "    </tr>\n",
       "    <tr>\n",
       "      <th>1</th>\n",
       "      <td>[The Intern]</td>\n",
       "    </tr>\n",
       "    <tr>\n",
       "      <th>2</th>\n",
       "      <td>[Moneyball]</td>\n",
       "    </tr>\n",
       "    <tr>\n",
       "      <th>3</th>\n",
       "      <td>[Emily in Paris,  Season 1,  Emily in Paris]</td>\n",
       "    </tr>\n",
       "    <tr>\n",
       "      <th>4</th>\n",
       "      <td>[The End of the F***ing World,  Season 1,  Epi...</td>\n",
       "    </tr>\n",
       "  </tbody>\n",
       "</table>\n",
       "</div>"
      ],
      "text/plain": [
       "                                               Title\n",
       "0                               [The Social Dilemma]\n",
       "1                                       [The Intern]\n",
       "2                                        [Moneyball]\n",
       "3       [Emily in Paris,  Season 1,  Emily in Paris]\n",
       "4  [The End of the F***ing World,  Season 1,  Epi..."
      ]
     },
     "execution_count": 6,
     "metadata": {},
     "output_type": "execute_result"
    }
   ],
   "source": [
    "#sepracion del titulo en columnas\n",
    "separacion= df.Title.str.split(pat =':', expand=False).to_frame()\n",
    "separacion.head()"
   ]
  },
  {
   "cell_type": "code",
   "execution_count": 7,
   "id": "8d9fa5d1",
   "metadata": {},
   "outputs": [
    {
     "data": {
      "text/html": [
       "<div>\n",
       "<style scoped>\n",
       "    .dataframe tbody tr th:only-of-type {\n",
       "        vertical-align: middle;\n",
       "    }\n",
       "\n",
       "    .dataframe tbody tr th {\n",
       "        vertical-align: top;\n",
       "    }\n",
       "\n",
       "    .dataframe thead th {\n",
       "        text-align: right;\n",
       "    }\n",
       "</style>\n",
       "<table border=\"1\" class=\"dataframe\">\n",
       "  <thead>\n",
       "    <tr style=\"text-align: right;\">\n",
       "      <th></th>\n",
       "      <th>Title</th>\n",
       "      <th>num_partes</th>\n",
       "    </tr>\n",
       "  </thead>\n",
       "  <tbody>\n",
       "    <tr>\n",
       "      <th>0</th>\n",
       "      <td>[The Social Dilemma]</td>\n",
       "      <td>1</td>\n",
       "    </tr>\n",
       "    <tr>\n",
       "      <th>1</th>\n",
       "      <td>[The Intern]</td>\n",
       "      <td>1</td>\n",
       "    </tr>\n",
       "    <tr>\n",
       "      <th>2</th>\n",
       "      <td>[Moneyball]</td>\n",
       "      <td>1</td>\n",
       "    </tr>\n",
       "    <tr>\n",
       "      <th>3</th>\n",
       "      <td>[Emily in Paris,  Season 1,  Emily in Paris]</td>\n",
       "      <td>3</td>\n",
       "    </tr>\n",
       "    <tr>\n",
       "      <th>4</th>\n",
       "      <td>[The End of the F***ing World,  Season 1,  Epi...</td>\n",
       "      <td>3</td>\n",
       "    </tr>\n",
       "  </tbody>\n",
       "</table>\n",
       "</div>"
      ],
      "text/plain": [
       "                                               Title  num_partes\n",
       "0                               [The Social Dilemma]           1\n",
       "1                                       [The Intern]           1\n",
       "2                                        [Moneyball]           1\n",
       "3       [Emily in Paris,  Season 1,  Emily in Paris]           3\n",
       "4  [The End of the F***ing World,  Season 1,  Epi...           3"
      ]
     },
     "execution_count": 7,
     "metadata": {},
     "output_type": "execute_result"
    }
   ],
   "source": [
    "#Conteo del numero de las partes\n",
    "separacion['num_partes'] = separacion.Title.apply(len)\n",
    "separacion.head()"
   ]
  },
  {
   "cell_type": "code",
   "execution_count": 8,
   "id": "227bcd9c",
   "metadata": {},
   "outputs": [
    {
     "data": {
      "text/plain": [
       "3    148\n",
       "1     48\n",
       "4     35\n",
       "2      9\n",
       "Name: num_partes, dtype: int64"
      ]
     },
     "execution_count": 8,
     "metadata": {},
     "output_type": "execute_result"
    }
   ],
   "source": [
    "#Cantar el numero de partes\n",
    "separacion.num_partes.value_counts()"
   ]
  },
  {
   "cell_type": "code",
   "execution_count": 9,
   "id": "a62bbf60",
   "metadata": {},
   "outputs": [
    {
     "data": {
      "text/html": [
       "<div>\n",
       "<style scoped>\n",
       "    .dataframe tbody tr th:only-of-type {\n",
       "        vertical-align: middle;\n",
       "    }\n",
       "\n",
       "    .dataframe tbody tr th {\n",
       "        vertical-align: top;\n",
       "    }\n",
       "\n",
       "    .dataframe thead th {\n",
       "        text-align: right;\n",
       "    }\n",
       "</style>\n",
       "<table border=\"1\" class=\"dataframe\">\n",
       "  <thead>\n",
       "    <tr style=\"text-align: right;\">\n",
       "      <th></th>\n",
       "      <th>Title</th>\n",
       "      <th>num_partes</th>\n",
       "    </tr>\n",
       "  </thead>\n",
       "  <tbody>\n",
       "    <tr>\n",
       "      <th>3</th>\n",
       "      <td>[Emily in Paris,  Season 1,  Emily in Paris]</td>\n",
       "      <td>3</td>\n",
       "    </tr>\n",
       "    <tr>\n",
       "      <th>4</th>\n",
       "      <td>[The End of the F***ing World,  Season 1,  Epi...</td>\n",
       "      <td>3</td>\n",
       "    </tr>\n",
       "    <tr>\n",
       "      <th>8</th>\n",
       "      <td>[100 Humans,  Season 1,  The Best Age to Be Al...</td>\n",
       "      <td>3</td>\n",
       "    </tr>\n",
       "    <tr>\n",
       "      <th>10</th>\n",
       "      <td>[Our Planet,  Season 1,  Frozen Worlds]</td>\n",
       "      <td>3</td>\n",
       "    </tr>\n",
       "    <tr>\n",
       "      <th>11</th>\n",
       "      <td>[Our Planet,  Season 1,  One Planet]</td>\n",
       "      <td>3</td>\n",
       "    </tr>\n",
       "    <tr>\n",
       "      <th>14</th>\n",
       "      <td>[Friends,  Season 1,  The One with the Birth]</td>\n",
       "      <td>3</td>\n",
       "    </tr>\n",
       "    <tr>\n",
       "      <th>15</th>\n",
       "      <td>[Love Is Blind,  Season 1,  Will You Marry Me?]</td>\n",
       "      <td>3</td>\n",
       "    </tr>\n",
       "    <tr>\n",
       "      <th>16</th>\n",
       "      <td>[Love Is Blind,  Season 1,  Is Love Blind?]</td>\n",
       "      <td>3</td>\n",
       "    </tr>\n",
       "    <tr>\n",
       "      <th>18</th>\n",
       "      <td>[How to Live Mortgage Free with Sarah Beeny,  ...</td>\n",
       "      <td>3</td>\n",
       "    </tr>\n",
       "    <tr>\n",
       "      <th>20</th>\n",
       "      <td>[Dream Home Makeover,  Season 1,  Manor House ...</td>\n",
       "      <td>3</td>\n",
       "    </tr>\n",
       "  </tbody>\n",
       "</table>\n",
       "</div>"
      ],
      "text/plain": [
       "                                                Title  num_partes\n",
       "3        [Emily in Paris,  Season 1,  Emily in Paris]           3\n",
       "4   [The End of the F***ing World,  Season 1,  Epi...           3\n",
       "8   [100 Humans,  Season 1,  The Best Age to Be Al...           3\n",
       "10            [Our Planet,  Season 1,  Frozen Worlds]           3\n",
       "11               [Our Planet,  Season 1,  One Planet]           3\n",
       "14      [Friends,  Season 1,  The One with the Birth]           3\n",
       "15    [Love Is Blind,  Season 1,  Will You Marry Me?]           3\n",
       "16        [Love Is Blind,  Season 1,  Is Love Blind?]           3\n",
       "18  [How to Live Mortgage Free with Sarah Beeny,  ...           3\n",
       "20  [Dream Home Makeover,  Season 1,  Manor House ...           3"
      ]
     },
     "execution_count": 9,
     "metadata": {},
     "output_type": "execute_result"
    }
   ],
   "source": [
    "#Verificar la lista de los numeros de las partes filtrar\n",
    "separacion[separacion.num_partes==3].head(10)"
   ]
  },
  {
   "cell_type": "code",
   "execution_count": 10,
   "id": "15588392",
   "metadata": {},
   "outputs": [
    {
     "data": {
      "text/html": [
       "<div>\n",
       "<style scoped>\n",
       "    .dataframe tbody tr th:only-of-type {\n",
       "        vertical-align: middle;\n",
       "    }\n",
       "\n",
       "    .dataframe tbody tr th {\n",
       "        vertical-align: top;\n",
       "    }\n",
       "\n",
       "    .dataframe thead th {\n",
       "        text-align: right;\n",
       "    }\n",
       "</style>\n",
       "<table border=\"1\" class=\"dataframe\">\n",
       "  <thead>\n",
       "    <tr style=\"text-align: right;\">\n",
       "      <th></th>\n",
       "      <th>Title</th>\n",
       "      <th>num_partes</th>\n",
       "    </tr>\n",
       "  </thead>\n",
       "  <tbody>\n",
       "    <tr>\n",
       "      <th>0</th>\n",
       "      <td>[The Social Dilemma]</td>\n",
       "      <td>1</td>\n",
       "    </tr>\n",
       "    <tr>\n",
       "      <th>1</th>\n",
       "      <td>[The Intern]</td>\n",
       "      <td>1</td>\n",
       "    </tr>\n",
       "    <tr>\n",
       "      <th>2</th>\n",
       "      <td>[Moneyball]</td>\n",
       "      <td>1</td>\n",
       "    </tr>\n",
       "    <tr>\n",
       "      <th>6</th>\n",
       "      <td>[Silver Linings Playbook]</td>\n",
       "      <td>1</td>\n",
       "    </tr>\n",
       "    <tr>\n",
       "      <th>7</th>\n",
       "      <td>[Definitely, Maybe]</td>\n",
       "      <td>1</td>\n",
       "    </tr>\n",
       "    <tr>\n",
       "      <th>9</th>\n",
       "      <td>[Eat Pray Love]</td>\n",
       "      <td>1</td>\n",
       "    </tr>\n",
       "    <tr>\n",
       "      <th>12</th>\n",
       "      <td>[The Exam]</td>\n",
       "      <td>1</td>\n",
       "    </tr>\n",
       "    <tr>\n",
       "      <th>13</th>\n",
       "      <td>[The Heartbreak Kid]</td>\n",
       "      <td>1</td>\n",
       "    </tr>\n",
       "    <tr>\n",
       "      <th>17</th>\n",
       "      <td>[The Women]</td>\n",
       "      <td>1</td>\n",
       "    </tr>\n",
       "    <tr>\n",
       "      <th>19</th>\n",
       "      <td>[Maid in Manhattan]</td>\n",
       "      <td>1</td>\n",
       "    </tr>\n",
       "  </tbody>\n",
       "</table>\n",
       "</div>"
      ],
      "text/plain": [
       "                        Title  num_partes\n",
       "0        [The Social Dilemma]           1\n",
       "1                [The Intern]           1\n",
       "2                 [Moneyball]           1\n",
       "6   [Silver Linings Playbook]           1\n",
       "7         [Definitely, Maybe]           1\n",
       "9             [Eat Pray Love]           1\n",
       "12                 [The Exam]           1\n",
       "13       [The Heartbreak Kid]           1\n",
       "17                [The Women]           1\n",
       "19        [Maid in Manhattan]           1"
      ]
     },
     "execution_count": 10,
     "metadata": {},
     "output_type": "execute_result"
    }
   ],
   "source": [
    "separacion[separacion.num_partes==1].head(10)"
   ]
  },
  {
   "cell_type": "code",
   "execution_count": 11,
   "id": "15ca7df4",
   "metadata": {},
   "outputs": [
    {
     "data": {
      "text/html": [
       "<div>\n",
       "<style scoped>\n",
       "    .dataframe tbody tr th:only-of-type {\n",
       "        vertical-align: middle;\n",
       "    }\n",
       "\n",
       "    .dataframe tbody tr th {\n",
       "        vertical-align: top;\n",
       "    }\n",
       "\n",
       "    .dataframe thead th {\n",
       "        text-align: right;\n",
       "    }\n",
       "</style>\n",
       "<table border=\"1\" class=\"dataframe\">\n",
       "  <thead>\n",
       "    <tr style=\"text-align: right;\">\n",
       "      <th></th>\n",
       "      <th>Title</th>\n",
       "      <th>num_partes</th>\n",
       "    </tr>\n",
       "  </thead>\n",
       "  <tbody>\n",
       "    <tr>\n",
       "      <th>5</th>\n",
       "      <td>[Sex and the City,  The Movie]</td>\n",
       "      <td>2</td>\n",
       "    </tr>\n",
       "    <tr>\n",
       "      <th>27</th>\n",
       "      <td>[David Attenborough,  A Life on Our Planet]</td>\n",
       "      <td>2</td>\n",
       "    </tr>\n",
       "    <tr>\n",
       "      <th>30</th>\n",
       "      <td>[Minimalism,  A Documentary About the Importan...</td>\n",
       "      <td>2</td>\n",
       "    </tr>\n",
       "    <tr>\n",
       "      <th>65</th>\n",
       "      <td>[The Show Must Go On,  The Queen + Adam Lamber...</td>\n",
       "      <td>2</td>\n",
       "    </tr>\n",
       "    <tr>\n",
       "      <th>71</th>\n",
       "      <td>[Black Mirror,  Bandersnatch]</td>\n",
       "      <td>2</td>\n",
       "    </tr>\n",
       "    <tr>\n",
       "      <th>102</th>\n",
       "      <td>[Eurovision Song Contest,  The Story of Fire S...</td>\n",
       "      <td>2</td>\n",
       "    </tr>\n",
       "    <tr>\n",
       "      <th>129</th>\n",
       "      <td>[Diana,  In Her Own Words]</td>\n",
       "      <td>2</td>\n",
       "    </tr>\n",
       "    <tr>\n",
       "      <th>135</th>\n",
       "      <td>[Elizabeth,  The Golden Age]</td>\n",
       "      <td>2</td>\n",
       "    </tr>\n",
       "    <tr>\n",
       "      <th>236</th>\n",
       "      <td>[Mowgli,  Legend of the Jungle]</td>\n",
       "      <td>2</td>\n",
       "    </tr>\n",
       "  </tbody>\n",
       "</table>\n",
       "</div>"
      ],
      "text/plain": [
       "                                                 Title  num_partes\n",
       "5                       [Sex and the City,  The Movie]           2\n",
       "27         [David Attenborough,  A Life on Our Planet]           2\n",
       "30   [Minimalism,  A Documentary About the Importan...           2\n",
       "65   [The Show Must Go On,  The Queen + Adam Lamber...           2\n",
       "71                       [Black Mirror,  Bandersnatch]           2\n",
       "102  [Eurovision Song Contest,  The Story of Fire S...           2\n",
       "129                         [Diana,  In Her Own Words]           2\n",
       "135                       [Elizabeth,  The Golden Age]           2\n",
       "236                    [Mowgli,  Legend of the Jungle]           2"
      ]
     },
     "execution_count": 11,
     "metadata": {},
     "output_type": "execute_result"
    }
   ],
   "source": [
    "separacion[separacion.num_partes==2].head(10)"
   ]
  },
  {
   "cell_type": "code",
   "execution_count": 12,
   "id": "23df5be8",
   "metadata": {},
   "outputs": [
    {
     "data": {
      "text/html": [
       "<div>\n",
       "<style scoped>\n",
       "    .dataframe tbody tr th:only-of-type {\n",
       "        vertical-align: middle;\n",
       "    }\n",
       "\n",
       "    .dataframe tbody tr th {\n",
       "        vertical-align: top;\n",
       "    }\n",
       "\n",
       "    .dataframe thead th {\n",
       "        text-align: right;\n",
       "    }\n",
       "</style>\n",
       "<table border=\"1\" class=\"dataframe\">\n",
       "  <thead>\n",
       "    <tr style=\"text-align: right;\">\n",
       "      <th></th>\n",
       "      <th>Title</th>\n",
       "      <th>num_partes</th>\n",
       "    </tr>\n",
       "  </thead>\n",
       "  <tbody>\n",
       "    <tr>\n",
       "      <th>60</th>\n",
       "      <td>[Chesapeake Shores,  Season 1,  Home to Roost,...</td>\n",
       "      <td>4</td>\n",
       "    </tr>\n",
       "    <tr>\n",
       "      <th>61</th>\n",
       "      <td>[Chesapeake Shores,  Season 1,  Pilot,  Part 2]</td>\n",
       "      <td>4</td>\n",
       "    </tr>\n",
       "    <tr>\n",
       "      <th>62</th>\n",
       "      <td>[Chesapeake Shores,  Season 1,  Pilot,  Part 1]</td>\n",
       "      <td>4</td>\n",
       "    </tr>\n",
       "    <tr>\n",
       "      <th>79</th>\n",
       "      <td>[Cable Girls,  Season 3,  Chapter 24,  Destiny]</td>\n",
       "      <td>4</td>\n",
       "    </tr>\n",
       "    <tr>\n",
       "      <th>95</th>\n",
       "      <td>[Cable Girls,  Season 3,  Chapter 23,  Hope]</td>\n",
       "      <td>4</td>\n",
       "    </tr>\n",
       "    <tr>\n",
       "      <th>100</th>\n",
       "      <td>[Friends,  Season 1,  The One with the Two Par...</td>\n",
       "      <td>4</td>\n",
       "    </tr>\n",
       "    <tr>\n",
       "      <th>103</th>\n",
       "      <td>[Friends,  Season 1,  The One with the Two Par...</td>\n",
       "      <td>4</td>\n",
       "    </tr>\n",
       "    <tr>\n",
       "      <th>110</th>\n",
       "      <td>[Cable Girls,  Season 3,  Chapter 22,  Fight]</td>\n",
       "      <td>4</td>\n",
       "    </tr>\n",
       "    <tr>\n",
       "      <th>116</th>\n",
       "      <td>[Trump,  An American Dream,  Season 1,  Citize...</td>\n",
       "      <td>4</td>\n",
       "    </tr>\n",
       "    <tr>\n",
       "      <th>117</th>\n",
       "      <td>[Trump,  An American Dream,  Season 1,  The Ga...</td>\n",
       "      <td>4</td>\n",
       "    </tr>\n",
       "  </tbody>\n",
       "</table>\n",
       "</div>"
      ],
      "text/plain": [
       "                                                 Title  num_partes\n",
       "60   [Chesapeake Shores,  Season 1,  Home to Roost,...           4\n",
       "61     [Chesapeake Shores,  Season 1,  Pilot,  Part 2]           4\n",
       "62     [Chesapeake Shores,  Season 1,  Pilot,  Part 1]           4\n",
       "79     [Cable Girls,  Season 3,  Chapter 24,  Destiny]           4\n",
       "95        [Cable Girls,  Season 3,  Chapter 23,  Hope]           4\n",
       "100  [Friends,  Season 1,  The One with the Two Par...           4\n",
       "103  [Friends,  Season 1,  The One with the Two Par...           4\n",
       "110      [Cable Girls,  Season 3,  Chapter 22,  Fight]           4\n",
       "116  [Trump,  An American Dream,  Season 1,  Citize...           4\n",
       "117  [Trump,  An American Dream,  Season 1,  The Ga...           4"
      ]
     },
     "execution_count": 12,
     "metadata": {},
     "output_type": "execute_result"
    }
   ],
   "source": [
    "separacion[separacion.num_partes==4].head(10)"
   ]
  },
  {
   "cell_type": "markdown",
   "id": "ec24d94a",
   "metadata": {},
   "source": [
    "## Crear variables"
   ]
  },
  {
   "cell_type": "markdown",
   "id": "e9065f00",
   "metadata": {},
   "source": [
    "### Variables derivadas del titulo"
   ]
  },
  {
   "cell_type": "code",
   "execution_count": 13,
   "id": "74b29238",
   "metadata": {},
   "outputs": [
    {
     "data": {
      "text/html": [
       "<div>\n",
       "<style scoped>\n",
       "    .dataframe tbody tr th:only-of-type {\n",
       "        vertical-align: middle;\n",
       "    }\n",
       "\n",
       "    .dataframe tbody tr th {\n",
       "        vertical-align: top;\n",
       "    }\n",
       "\n",
       "    .dataframe thead th {\n",
       "        text-align: right;\n",
       "    }\n",
       "</style>\n",
       "<table border=\"1\" class=\"dataframe\">\n",
       "  <thead>\n",
       "    <tr style=\"text-align: right;\">\n",
       "      <th></th>\n",
       "      <th>Title</th>\n",
       "      <th>num_partes</th>\n",
       "      <th>tipo</th>\n",
       "    </tr>\n",
       "  </thead>\n",
       "  <tbody>\n",
       "    <tr>\n",
       "      <th>0</th>\n",
       "      <td>[The Social Dilemma]</td>\n",
       "      <td>1</td>\n",
       "      <td>pelicula</td>\n",
       "    </tr>\n",
       "    <tr>\n",
       "      <th>1</th>\n",
       "      <td>[The Intern]</td>\n",
       "      <td>1</td>\n",
       "      <td>pelicula</td>\n",
       "    </tr>\n",
       "    <tr>\n",
       "      <th>2</th>\n",
       "      <td>[Moneyball]</td>\n",
       "      <td>1</td>\n",
       "      <td>pelicula</td>\n",
       "    </tr>\n",
       "    <tr>\n",
       "      <th>3</th>\n",
       "      <td>[Emily in Paris,  Season 1,  Emily in Paris]</td>\n",
       "      <td>3</td>\n",
       "      <td>serie</td>\n",
       "    </tr>\n",
       "    <tr>\n",
       "      <th>4</th>\n",
       "      <td>[The End of the F***ing World,  Season 1,  Epi...</td>\n",
       "      <td>3</td>\n",
       "      <td>serie</td>\n",
       "    </tr>\n",
       "  </tbody>\n",
       "</table>\n",
       "</div>"
      ],
      "text/plain": [
       "                                               Title  num_partes      tipo\n",
       "0                               [The Social Dilemma]           1  pelicula\n",
       "1                                       [The Intern]           1  pelicula\n",
       "2                                        [Moneyball]           1  pelicula\n",
       "3       [Emily in Paris,  Season 1,  Emily in Paris]           3     serie\n",
       "4  [The End of the F***ing World,  Season 1,  Epi...           3     serie"
      ]
     },
     "execution_count": 13,
     "metadata": {},
     "output_type": "execute_result"
    }
   ],
   "source": [
    "#Crear la column tipo: cuando el numero de partes sea menor a tres \n",
    "#consideramos como pelicula lo de mas sera una serie\n",
    "separacion['tipo'] = np.where(separacion.num_partes<3,'pelicula','serie')\n",
    "separacion.head()"
   ]
  },
  {
   "cell_type": "code",
   "execution_count": 14,
   "id": "a667ee8e",
   "metadata": {},
   "outputs": [
    {
     "data": {
      "text/plain": [
       "serie       183\n",
       "pelicula     57\n",
       "Name: tipo, dtype: int64"
      ]
     },
     "execution_count": 14,
     "metadata": {},
     "output_type": "execute_result"
    }
   ],
   "source": [
    "separacion.tipo.value_counts()"
   ]
  },
  {
   "cell_type": "code",
   "execution_count": 15,
   "id": "c1aa9e02",
   "metadata": {},
   "outputs": [
    {
     "data": {
      "text/html": [
       "<div>\n",
       "<style scoped>\n",
       "    .dataframe tbody tr th:only-of-type {\n",
       "        vertical-align: middle;\n",
       "    }\n",
       "\n",
       "    .dataframe tbody tr th {\n",
       "        vertical-align: top;\n",
       "    }\n",
       "\n",
       "    .dataframe thead th {\n",
       "        text-align: right;\n",
       "    }\n",
       "</style>\n",
       "<table border=\"1\" class=\"dataframe\">\n",
       "  <thead>\n",
       "    <tr style=\"text-align: right;\">\n",
       "      <th></th>\n",
       "      <th>Title</th>\n",
       "      <th>Date</th>\n",
       "      <th>tipo</th>\n",
       "    </tr>\n",
       "  </thead>\n",
       "  <tbody>\n",
       "    <tr>\n",
       "      <th>0</th>\n",
       "      <td>The Social Dilemma</td>\n",
       "      <td>2020-10-29</td>\n",
       "      <td>pelicula</td>\n",
       "    </tr>\n",
       "    <tr>\n",
       "      <th>1</th>\n",
       "      <td>The Intern</td>\n",
       "      <td>2020-10-28</td>\n",
       "      <td>pelicula</td>\n",
       "    </tr>\n",
       "    <tr>\n",
       "      <th>2</th>\n",
       "      <td>Moneyball</td>\n",
       "      <td>2020-10-28</td>\n",
       "      <td>pelicula</td>\n",
       "    </tr>\n",
       "    <tr>\n",
       "      <th>3</th>\n",
       "      <td>Emily in Paris: Season 1: Emily in Paris</td>\n",
       "      <td>2020-10-28</td>\n",
       "      <td>serie</td>\n",
       "    </tr>\n",
       "    <tr>\n",
       "      <th>4</th>\n",
       "      <td>The End of the F***ing World: Season 1: Episode 1</td>\n",
       "      <td>2020-10-28</td>\n",
       "      <td>serie</td>\n",
       "    </tr>\n",
       "  </tbody>\n",
       "</table>\n",
       "</div>"
      ],
      "text/plain": [
       "                                               Title       Date      tipo\n",
       "0                                 The Social Dilemma 2020-10-29  pelicula\n",
       "1                                         The Intern 2020-10-28  pelicula\n",
       "2                                          Moneyball 2020-10-28  pelicula\n",
       "3           Emily in Paris: Season 1: Emily in Paris 2020-10-28     serie\n",
       "4  The End of the F***ing World: Season 1: Episode 1 2020-10-28     serie"
      ]
     },
     "execution_count": 15,
     "metadata": {},
     "output_type": "execute_result"
    }
   ],
   "source": [
    "#unir la calumna tipo de separacion al df\n",
    "df = pd.concat([df, separacion['tipo']], axis = 1)\n",
    "df.head()"
   ]
  },
  {
   "cell_type": "code",
   "execution_count": 16,
   "id": "b89198aa",
   "metadata": {},
   "outputs": [
    {
     "data": {
      "text/html": [
       "<div>\n",
       "<style scoped>\n",
       "    .dataframe tbody tr th:only-of-type {\n",
       "        vertical-align: middle;\n",
       "    }\n",
       "\n",
       "    .dataframe tbody tr th {\n",
       "        vertical-align: top;\n",
       "    }\n",
       "\n",
       "    .dataframe thead th {\n",
       "        text-align: right;\n",
       "    }\n",
       "</style>\n",
       "<table border=\"1\" class=\"dataframe\">\n",
       "  <thead>\n",
       "    <tr style=\"text-align: right;\">\n",
       "      <th></th>\n",
       "      <th>Title</th>\n",
       "      <th>nivel1</th>\n",
       "      <th>nivel2</th>\n",
       "      <th>nivel3</th>\n",
       "    </tr>\n",
       "  </thead>\n",
       "  <tbody>\n",
       "    <tr>\n",
       "      <th>0</th>\n",
       "      <td>The Social Dilemma</td>\n",
       "      <td>None</td>\n",
       "      <td>None</td>\n",
       "      <td>None</td>\n",
       "    </tr>\n",
       "    <tr>\n",
       "      <th>1</th>\n",
       "      <td>The Intern</td>\n",
       "      <td>None</td>\n",
       "      <td>None</td>\n",
       "      <td>None</td>\n",
       "    </tr>\n",
       "    <tr>\n",
       "      <th>2</th>\n",
       "      <td>Moneyball</td>\n",
       "      <td>None</td>\n",
       "      <td>None</td>\n",
       "      <td>None</td>\n",
       "    </tr>\n",
       "    <tr>\n",
       "      <th>3</th>\n",
       "      <td>Emily in Paris</td>\n",
       "      <td>Season 1</td>\n",
       "      <td>Emily in Paris</td>\n",
       "      <td>None</td>\n",
       "    </tr>\n",
       "    <tr>\n",
       "      <th>4</th>\n",
       "      <td>The End of the F***ing World</td>\n",
       "      <td>Season 1</td>\n",
       "      <td>Episode 1</td>\n",
       "      <td>None</td>\n",
       "    </tr>\n",
       "  </tbody>\n",
       "</table>\n",
       "</div>"
      ],
      "text/plain": [
       "                          Title     nivel1           nivel2 nivel3\n",
       "0            The Social Dilemma       None             None   None\n",
       "1                    The Intern       None             None   None\n",
       "2                     Moneyball       None             None   None\n",
       "3                Emily in Paris   Season 1   Emily in Paris   None\n",
       "4  The End of the F***ing World   Season 1        Episode 1   None"
      ]
     },
     "execution_count": 16,
     "metadata": {},
     "output_type": "execute_result"
    }
   ],
   "source": [
    "#Dividir los tipos en sus diferentes niveles\n",
    "separacion_cols = df.Title.str.split(':', expand=True)\n",
    "#Renombrar las columnas\n",
    "separacion_cols.columns= ['Title', 'nivel1','nivel2','nivel3']\n",
    "separacion_cols.head()"
   ]
  },
  {
   "cell_type": "code",
   "execution_count": 17,
   "id": "520e1c5e",
   "metadata": {},
   "outputs": [
    {
     "data": {
      "text/html": [
       "<div>\n",
       "<style scoped>\n",
       "    .dataframe tbody tr th:only-of-type {\n",
       "        vertical-align: middle;\n",
       "    }\n",
       "\n",
       "    .dataframe tbody tr th {\n",
       "        vertical-align: top;\n",
       "    }\n",
       "\n",
       "    .dataframe thead th {\n",
       "        text-align: right;\n",
       "    }\n",
       "</style>\n",
       "<table border=\"1\" class=\"dataframe\">\n",
       "  <thead>\n",
       "    <tr style=\"text-align: right;\">\n",
       "      <th></th>\n",
       "      <th>Title</th>\n",
       "      <th>Date</th>\n",
       "      <th>tipo</th>\n",
       "      <th>nivel1</th>\n",
       "      <th>nivel2</th>\n",
       "      <th>nivel3</th>\n",
       "    </tr>\n",
       "  </thead>\n",
       "  <tbody>\n",
       "    <tr>\n",
       "      <th>0</th>\n",
       "      <td>The Social Dilemma</td>\n",
       "      <td>2020-10-29</td>\n",
       "      <td>pelicula</td>\n",
       "      <td>None</td>\n",
       "      <td>None</td>\n",
       "      <td>None</td>\n",
       "    </tr>\n",
       "    <tr>\n",
       "      <th>1</th>\n",
       "      <td>The Intern</td>\n",
       "      <td>2020-10-28</td>\n",
       "      <td>pelicula</td>\n",
       "      <td>None</td>\n",
       "      <td>None</td>\n",
       "      <td>None</td>\n",
       "    </tr>\n",
       "    <tr>\n",
       "      <th>2</th>\n",
       "      <td>Moneyball</td>\n",
       "      <td>2020-10-28</td>\n",
       "      <td>pelicula</td>\n",
       "      <td>None</td>\n",
       "      <td>None</td>\n",
       "      <td>None</td>\n",
       "    </tr>\n",
       "    <tr>\n",
       "      <th>3</th>\n",
       "      <td>Emily in Paris: Season 1: Emily in Paris</td>\n",
       "      <td>2020-10-28</td>\n",
       "      <td>serie</td>\n",
       "      <td>Season 1</td>\n",
       "      <td>Emily in Paris</td>\n",
       "      <td>None</td>\n",
       "    </tr>\n",
       "    <tr>\n",
       "      <th>4</th>\n",
       "      <td>The End of the F***ing World: Season 1: Episode 1</td>\n",
       "      <td>2020-10-28</td>\n",
       "      <td>serie</td>\n",
       "      <td>Season 1</td>\n",
       "      <td>Episode 1</td>\n",
       "      <td>None</td>\n",
       "    </tr>\n",
       "  </tbody>\n",
       "</table>\n",
       "</div>"
      ],
      "text/plain": [
       "                                               Title       Date      tipo  \\\n",
       "0                                 The Social Dilemma 2020-10-29  pelicula   \n",
       "1                                         The Intern 2020-10-28  pelicula   \n",
       "2                                          Moneyball 2020-10-28  pelicula   \n",
       "3           Emily in Paris: Season 1: Emily in Paris 2020-10-28     serie   \n",
       "4  The End of the F***ing World: Season 1: Episode 1 2020-10-28     serie   \n",
       "\n",
       "      nivel1           nivel2 nivel3  \n",
       "0       None             None   None  \n",
       "1       None             None   None  \n",
       "2       None             None   None  \n",
       "3   Season 1   Emily in Paris   None  \n",
       "4   Season 1        Episode 1   None  "
      ]
     },
     "execution_count": 17,
     "metadata": {},
     "output_type": "execute_result"
    }
   ],
   "source": [
    "#Unir al dataset\n",
    "df =pd.concat([df, separacion_cols[['nivel1','nivel2','nivel3']]], axis =1)\n",
    "df.head()"
   ]
  },
  {
   "cell_type": "markdown",
   "id": "a8409792",
   "metadata": {},
   "source": [
    "### Variables derivadas de la fecha"
   ]
  },
  {
   "cell_type": "code",
   "execution_count": 18,
   "id": "36a406b6",
   "metadata": {},
   "outputs": [
    {
     "data": {
      "text/html": [
       "<div>\n",
       "<style scoped>\n",
       "    .dataframe tbody tr th:only-of-type {\n",
       "        vertical-align: middle;\n",
       "    }\n",
       "\n",
       "    .dataframe tbody tr th {\n",
       "        vertical-align: top;\n",
       "    }\n",
       "\n",
       "    .dataframe thead th {\n",
       "        text-align: right;\n",
       "    }\n",
       "</style>\n",
       "<table border=\"1\" class=\"dataframe\">\n",
       "  <thead>\n",
       "    <tr style=\"text-align: right;\">\n",
       "      <th></th>\n",
       "      <th>Title</th>\n",
       "      <th>tipo</th>\n",
       "      <th>nivel1</th>\n",
       "      <th>nivel2</th>\n",
       "      <th>nivel3</th>\n",
       "    </tr>\n",
       "    <tr>\n",
       "      <th>Date</th>\n",
       "      <th></th>\n",
       "      <th></th>\n",
       "      <th></th>\n",
       "      <th></th>\n",
       "      <th></th>\n",
       "    </tr>\n",
       "  </thead>\n",
       "  <tbody>\n",
       "    <tr>\n",
       "      <th>2020-10-29</th>\n",
       "      <td>The Social Dilemma</td>\n",
       "      <td>pelicula</td>\n",
       "      <td>None</td>\n",
       "      <td>None</td>\n",
       "      <td>None</td>\n",
       "    </tr>\n",
       "    <tr>\n",
       "      <th>2020-10-28</th>\n",
       "      <td>The Intern</td>\n",
       "      <td>pelicula</td>\n",
       "      <td>None</td>\n",
       "      <td>None</td>\n",
       "      <td>None</td>\n",
       "    </tr>\n",
       "  </tbody>\n",
       "</table>\n",
       "</div>"
      ],
      "text/plain": [
       "                         Title      tipo nivel1 nivel2 nivel3\n",
       "Date                                                         \n",
       "2020-10-29  The Social Dilemma  pelicula   None   None   None\n",
       "2020-10-28          The Intern  pelicula   None   None   None"
      ]
     },
     "execution_count": 18,
     "metadata": {},
     "output_type": "execute_result"
    }
   ],
   "source": [
    "#cololocar la fecha como indice\n",
    "df.set_index('Date', inplace =True)\n",
    "df.head(2)"
   ]
  },
  {
   "cell_type": "code",
   "execution_count": 19,
   "id": "4cd70655",
   "metadata": {},
   "outputs": [],
   "source": [
    "#Funcion parat extraer de la fecha los componentes (año, mes.....)\n",
    "def ext_fecha(data):\n",
    "    data['año'] = data.index.year\n",
    "    data['mes'] = data.index.month_name()\n",
    "    data['mes_num'] = data.index.month\n",
    "    data['dia_mes'] = data.index.day\n",
    "    data['dia_semana'] =data.index.day_name()\n",
    "    return data"
   ]
  },
  {
   "cell_type": "code",
   "execution_count": 20,
   "id": "965ea779",
   "metadata": {},
   "outputs": [
    {
     "data": {
      "text/html": [
       "<div>\n",
       "<style scoped>\n",
       "    .dataframe tbody tr th:only-of-type {\n",
       "        vertical-align: middle;\n",
       "    }\n",
       "\n",
       "    .dataframe tbody tr th {\n",
       "        vertical-align: top;\n",
       "    }\n",
       "\n",
       "    .dataframe thead th {\n",
       "        text-align: right;\n",
       "    }\n",
       "</style>\n",
       "<table border=\"1\" class=\"dataframe\">\n",
       "  <thead>\n",
       "    <tr style=\"text-align: right;\">\n",
       "      <th></th>\n",
       "      <th>Title</th>\n",
       "      <th>tipo</th>\n",
       "      <th>nivel1</th>\n",
       "      <th>nivel2</th>\n",
       "      <th>nivel3</th>\n",
       "      <th>año</th>\n",
       "      <th>mes</th>\n",
       "      <th>mes_num</th>\n",
       "      <th>dia_mes</th>\n",
       "      <th>dia_semana</th>\n",
       "    </tr>\n",
       "    <tr>\n",
       "      <th>Date</th>\n",
       "      <th></th>\n",
       "      <th></th>\n",
       "      <th></th>\n",
       "      <th></th>\n",
       "      <th></th>\n",
       "      <th></th>\n",
       "      <th></th>\n",
       "      <th></th>\n",
       "      <th></th>\n",
       "      <th></th>\n",
       "    </tr>\n",
       "  </thead>\n",
       "  <tbody>\n",
       "    <tr>\n",
       "      <th>2020-10-29</th>\n",
       "      <td>The Social Dilemma</td>\n",
       "      <td>pelicula</td>\n",
       "      <td>None</td>\n",
       "      <td>None</td>\n",
       "      <td>None</td>\n",
       "      <td>2020</td>\n",
       "      <td>October</td>\n",
       "      <td>10</td>\n",
       "      <td>29</td>\n",
       "      <td>Thursday</td>\n",
       "    </tr>\n",
       "    <tr>\n",
       "      <th>2020-10-28</th>\n",
       "      <td>The Intern</td>\n",
       "      <td>pelicula</td>\n",
       "      <td>None</td>\n",
       "      <td>None</td>\n",
       "      <td>None</td>\n",
       "      <td>2020</td>\n",
       "      <td>October</td>\n",
       "      <td>10</td>\n",
       "      <td>28</td>\n",
       "      <td>Wednesday</td>\n",
       "    </tr>\n",
       "    <tr>\n",
       "      <th>2020-10-28</th>\n",
       "      <td>Moneyball</td>\n",
       "      <td>pelicula</td>\n",
       "      <td>None</td>\n",
       "      <td>None</td>\n",
       "      <td>None</td>\n",
       "      <td>2020</td>\n",
       "      <td>October</td>\n",
       "      <td>10</td>\n",
       "      <td>28</td>\n",
       "      <td>Wednesday</td>\n",
       "    </tr>\n",
       "    <tr>\n",
       "      <th>2020-10-28</th>\n",
       "      <td>Emily in Paris: Season 1: Emily in Paris</td>\n",
       "      <td>serie</td>\n",
       "      <td>Season 1</td>\n",
       "      <td>Emily in Paris</td>\n",
       "      <td>None</td>\n",
       "      <td>2020</td>\n",
       "      <td>October</td>\n",
       "      <td>10</td>\n",
       "      <td>28</td>\n",
       "      <td>Wednesday</td>\n",
       "    </tr>\n",
       "    <tr>\n",
       "      <th>2020-10-28</th>\n",
       "      <td>The End of the F***ing World: Season 1: Episode 1</td>\n",
       "      <td>serie</td>\n",
       "      <td>Season 1</td>\n",
       "      <td>Episode 1</td>\n",
       "      <td>None</td>\n",
       "      <td>2020</td>\n",
       "      <td>October</td>\n",
       "      <td>10</td>\n",
       "      <td>28</td>\n",
       "      <td>Wednesday</td>\n",
       "    </tr>\n",
       "    <tr>\n",
       "      <th>...</th>\n",
       "      <td>...</td>\n",
       "      <td>...</td>\n",
       "      <td>...</td>\n",
       "      <td>...</td>\n",
       "      <td>...</td>\n",
       "      <td>...</td>\n",
       "      <td>...</td>\n",
       "      <td>...</td>\n",
       "      <td>...</td>\n",
       "      <td>...</td>\n",
       "    </tr>\n",
       "    <tr>\n",
       "      <th>2020-03-29</th>\n",
       "      <td>Money Heist: Part 1: Episode 1</td>\n",
       "      <td>serie</td>\n",
       "      <td>Part 1</td>\n",
       "      <td>Episode 1</td>\n",
       "      <td>None</td>\n",
       "      <td>2020</td>\n",
       "      <td>March</td>\n",
       "      <td>3</td>\n",
       "      <td>29</td>\n",
       "      <td>Sunday</td>\n",
       "    </tr>\n",
       "    <tr>\n",
       "      <th>2020-03-28</th>\n",
       "      <td>Mowgli: Legend of the Jungle</td>\n",
       "      <td>pelicula</td>\n",
       "      <td>Legend of the Jungle</td>\n",
       "      <td>None</td>\n",
       "      <td>None</td>\n",
       "      <td>2020</td>\n",
       "      <td>March</td>\n",
       "      <td>3</td>\n",
       "      <td>28</td>\n",
       "      <td>Saturday</td>\n",
       "    </tr>\n",
       "    <tr>\n",
       "      <th>2020-03-28</th>\n",
       "      <td>Revenge</td>\n",
       "      <td>pelicula</td>\n",
       "      <td>None</td>\n",
       "      <td>None</td>\n",
       "      <td>None</td>\n",
       "      <td>2020</td>\n",
       "      <td>March</td>\n",
       "      <td>3</td>\n",
       "      <td>28</td>\n",
       "      <td>Saturday</td>\n",
       "    </tr>\n",
       "    <tr>\n",
       "      <th>2020-03-27</th>\n",
       "      <td>Tall Girl</td>\n",
       "      <td>pelicula</td>\n",
       "      <td>None</td>\n",
       "      <td>None</td>\n",
       "      <td>None</td>\n",
       "      <td>2020</td>\n",
       "      <td>March</td>\n",
       "      <td>3</td>\n",
       "      <td>27</td>\n",
       "      <td>Friday</td>\n",
       "    </tr>\n",
       "    <tr>\n",
       "      <th>2020-03-27</th>\n",
       "      <td>The Society: Season 1: What Happened</td>\n",
       "      <td>serie</td>\n",
       "      <td>Season 1</td>\n",
       "      <td>What Happened</td>\n",
       "      <td>None</td>\n",
       "      <td>2020</td>\n",
       "      <td>March</td>\n",
       "      <td>3</td>\n",
       "      <td>27</td>\n",
       "      <td>Friday</td>\n",
       "    </tr>\n",
       "  </tbody>\n",
       "</table>\n",
       "<p>240 rows × 10 columns</p>\n",
       "</div>"
      ],
      "text/plain": [
       "                                                        Title      tipo  \\\n",
       "Date                                                                      \n",
       "2020-10-29                                 The Social Dilemma  pelicula   \n",
       "2020-10-28                                         The Intern  pelicula   \n",
       "2020-10-28                                          Moneyball  pelicula   \n",
       "2020-10-28           Emily in Paris: Season 1: Emily in Paris     serie   \n",
       "2020-10-28  The End of the F***ing World: Season 1: Episode 1     serie   \n",
       "...                                                       ...       ...   \n",
       "2020-03-29                     Money Heist: Part 1: Episode 1     serie   \n",
       "2020-03-28                       Mowgli: Legend of the Jungle  pelicula   \n",
       "2020-03-28                                            Revenge  pelicula   \n",
       "2020-03-27                                          Tall Girl  pelicula   \n",
       "2020-03-27               The Society: Season 1: What Happened     serie   \n",
       "\n",
       "                           nivel1           nivel2 nivel3   año      mes  \\\n",
       "Date                                                                       \n",
       "2020-10-29                   None             None   None  2020  October   \n",
       "2020-10-28                   None             None   None  2020  October   \n",
       "2020-10-28                   None             None   None  2020  October   \n",
       "2020-10-28               Season 1   Emily in Paris   None  2020  October   \n",
       "2020-10-28               Season 1        Episode 1   None  2020  October   \n",
       "...                           ...              ...    ...   ...      ...   \n",
       "2020-03-29                 Part 1        Episode 1   None  2020    March   \n",
       "2020-03-28   Legend of the Jungle             None   None  2020    March   \n",
       "2020-03-28                   None             None   None  2020    March   \n",
       "2020-03-27                   None             None   None  2020    March   \n",
       "2020-03-27               Season 1    What Happened   None  2020    March   \n",
       "\n",
       "            mes_num  dia_mes dia_semana  \n",
       "Date                                     \n",
       "2020-10-29       10       29   Thursday  \n",
       "2020-10-28       10       28  Wednesday  \n",
       "2020-10-28       10       28  Wednesday  \n",
       "2020-10-28       10       28  Wednesday  \n",
       "2020-10-28       10       28  Wednesday  \n",
       "...             ...      ...        ...  \n",
       "2020-03-29        3       29     Sunday  \n",
       "2020-03-28        3       28   Saturday  \n",
       "2020-03-28        3       28   Saturday  \n",
       "2020-03-27        3       27     Friday  \n",
       "2020-03-27        3       27     Friday  \n",
       "\n",
       "[240 rows x 10 columns]"
      ]
     },
     "execution_count": 20,
     "metadata": {},
     "output_type": "execute_result"
    }
   ],
   "source": [
    "ext_fecha(df)"
   ]
  },
  {
   "cell_type": "markdown",
   "id": "7d815f38",
   "metadata": {},
   "source": [
    "## Análisis"
   ]
  },
  {
   "cell_type": "markdown",
   "id": "2ed89aed",
   "metadata": {},
   "source": [
    "### Cuanto tiempo lleva contratado netflix"
   ]
  },
  {
   "cell_type": "code",
   "execution_count": 21,
   "id": "21924ee4",
   "metadata": {},
   "outputs": [],
   "source": [
    "from datetime import date"
   ]
  },
  {
   "cell_type": "code",
   "execution_count": 22,
   "id": "6d3264cd",
   "metadata": {},
   "outputs": [
    {
     "name": "stdout",
     "output_type": "stream",
     "text": [
      "El tiempo que llevas usando de Netflix es de 1426 dias\n"
     ]
    }
   ],
   "source": [
    "# crear variable de fecha el dia de hoy\n",
    "hoy = pd.Timestamp(date.today())\n",
    "\n",
    "#Buscar el primer dia de fecha de inicio\n",
    "primer_dia = df.index.min()\n",
    "\n",
    "#Calcular el tiempo\n",
    "tiempo = hoy - primer_dia\n",
    "\n",
    "print('El tiempo que llevas usando de Netflix es de {} dias'.format(tiempo.days))"
   ]
  },
  {
   "cell_type": "markdown",
   "id": "39aef5b8",
   "metadata": {},
   "source": [
    "### Cuanto gasto en Netflixt\n",
    "- El costo de netflix es de mesual: US$6.99\n",
    "- tasa del peso es de 58.61"
   ]
  },
  {
   "cell_type": "code",
   "execution_count": 23,
   "id": "367dd424",
   "metadata": {},
   "outputs": [
    {
     "name": "stdout",
     "output_type": "stream",
     "text": [
      "El gasto hasta ahora es de U$332.258 en pesos es de $19473.641379999997\n"
     ]
    }
   ],
   "source": [
    "costo_mensual = 6.99\n",
    "conversion = 6.99 * 58.61 \n",
    "gasto = tiempo.days/30 * costo_mensual\n",
    "en_pesos = tiempo.days/30 * conversion\n",
    "print('El gasto hasta ahora es de U${} en pesos es de ${}'.format(gasto, en_pesos))"
   ]
  },
  {
   "cell_type": "markdown",
   "id": "1a0fedb4",
   "metadata": {},
   "source": [
    "### Que tiempo le dedicas a Netflix  \n",
    "- Suponemos que una serie dura 45 minutos y una pelicula 100 minutos"
   ]
  },
  {
   "cell_type": "code",
   "execution_count": 24,
   "id": "84abc1f1",
   "metadata": {},
   "outputs": [],
   "source": [
    "serie = 45\n",
    "pelicula = 100"
   ]
  },
  {
   "cell_type": "code",
   "execution_count": 25,
   "id": "4c3519dd",
   "metadata": {},
   "outputs": [
    {
     "data": {
      "text/plain": [
       "serie       183\n",
       "pelicula     57\n",
       "Name: tipo, dtype: int64"
      ]
     },
     "execution_count": 25,
     "metadata": {},
     "output_type": "execute_result"
    }
   ],
   "source": [
    "consumo = df['tipo'].value_counts()\n",
    "consumo"
   ]
  },
  {
   "cell_type": "code",
   "execution_count": 26,
   "id": "c18670ea",
   "metadata": {},
   "outputs": [
    {
     "name": "stdout",
     "output_type": "stream",
     "text": [
      "Al año le dedicas 6 dias en series y en peliculas le dedicas 4 dias\n"
     ]
    }
   ],
   "source": [
    "#calcular el minuto por peliculas\n",
    "min_peli = consumo['pelicula'] * pelicula\n",
    "\n",
    "#calcular el minuto por seires\n",
    "min_serie = consumo['serie'] * serie\n",
    "\n",
    "#calcular al año\n",
    "peli_ano = min_peli /60/24\n",
    "serie_ano = min_serie /60/24\n",
    "\n",
    "print('Al año le dedicas {} dias en series y en peliculas le dedicas {} dias'.format(round(serie_ano),\n",
    "                                                                                     round(peli_ano)))"
   ]
  },
  {
   "cell_type": "markdown",
   "id": "8ef3f0fb",
   "metadata": {},
   "source": [
    "### Cuales son las 10 series que has visto mas?"
   ]
  },
  {
   "cell_type": "code",
   "execution_count": 27,
   "id": "06081752",
   "metadata": {},
   "outputs": [
    {
     "data": {
      "image/png": "[encoded data removed]",
      "text/plain": [
       "<Figure size 432x288 with 1 Axes>"
      ]
     },
     "metadata": {
      "needs_background": "light"
     },
     "output_type": "display_data"
    }
   ],
   "source": [
    "df[df.tipo =='serie'].nivel1.value_counts().head(10).sort_values(ascending =True).plot.barh(cmap = 'Pastel1');"
   ]
  },
  {
   "cell_type": "markdown",
   "id": "2b7114c7",
   "metadata": {},
   "source": [
    "### Dia de la semana de mayor consumo?"
   ]
  },
  {
   "cell_type": "code",
   "execution_count": 28,
   "id": "a21b97d9",
   "metadata": {},
   "outputs": [
    {
     "data": {
      "text/plain": [
       "Index(['Title', 'tipo', 'nivel1', 'nivel2', 'nivel3', 'año', 'mes', 'mes_num',\n",
       "       'dia_mes', 'dia_semana'],\n",
       "      dtype='object')"
      ]
     },
     "execution_count": 28,
     "metadata": {},
     "output_type": "execute_result"
    }
   ],
   "source": [
    "df.columns"
   ]
  },
  {
   "cell_type": "code",
   "execution_count": 29,
   "id": "4a407883",
   "metadata": {},
   "outputs": [
    {
     "data": {
      "image/png": "[encoded data removed]",
      "text/plain": [
       "<Figure size 576x288 with 1 Axes>"
      ]
     },
     "metadata": {
      "needs_background": "light"
     },
     "output_type": "display_data"
    },
    {
     "name": "stdout",
     "output_type": "stream",
     "text": [
      "Sunday       77\n",
      "Saturday     70\n",
      "Wednesday    26\n",
      "Tuesday      21\n",
      "Friday       19\n",
      "Monday       15\n",
      "Thursday     12\n",
      "Name: dia_semana, dtype: int64\n"
     ]
    }
   ],
   "source": [
    "plt.figure(figsize = [8,4])\n",
    "sns.countplot(x = df.dia_semana, color= 'pink')\n",
    "plt.show()\n",
    "\n",
    "print(df.dia_semana.value_counts())"
   ]
  },
  {
   "cell_type": "markdown",
   "id": "b814d8a7",
   "metadata": {},
   "source": [
    "### existen diferencias entre series y peliculas"
   ]
  },
  {
   "cell_type": "code",
   "execution_count": 30,
   "id": "a44b2d32",
   "metadata": {},
   "outputs": [
    {
     "data": {
      "image/png": "[encoded data removed]",
      "text/plain": [
       "<Figure size 576x288 with 1 Axes>"
      ]
     },
     "metadata": {
      "needs_background": "light"
     },
     "output_type": "display_data"
    }
   ],
   "source": [
    "plt.figure(figsize = [8,4])\n",
    "sns.countplot(x = df.dia_semana, hue = df.tipo, palette='pastel')\n",
    "plt.show()"
   ]
  },
  {
   "cell_type": "markdown",
   "id": "42e4f15f",
   "metadata": {},
   "source": [
    "### El consumo a lo largo del año es constante o hay meses de mayor consumo"
   ]
  },
  {
   "cell_type": "code",
   "execution_count": 31,
   "id": "4a143a13",
   "metadata": {
    "scrolled": false
   },
   "outputs": [
    {
     "data": {
      "image/png": "[encoded data removed]",
      "text/plain": [
       "<Figure size 576x288 with 1 Axes>"
      ]
     },
     "metadata": {
      "needs_background": "light"
     },
     "output_type": "display_data"
    },
    {
     "name": "stdout",
     "output_type": "stream",
     "text": [
      "April        51\n",
      "October      35\n",
      "June         35\n",
      "May          35\n",
      "September    34\n",
      "July         18\n",
      "March        18\n",
      "August       14\n",
      "Name: mes, dtype: int64\n"
     ]
    }
   ],
   "source": [
    "plt.figure(figsize = [8,4])\n",
    "sns.countplot(x = df.mes, color ='pink')\n",
    "plt.show()\n",
    "print(df.mes.value_counts())"
   ]
  },
  {
   "cell_type": "markdown",
   "id": "5bbbce9c",
   "metadata": {},
   "source": [
    "## Exportar Datos"
   ]
  },
  {
   "cell_type": "code",
   "execution_count": 34,
   "id": "899cb7ac",
   "metadata": {},
   "outputs": [],
   "source": [
    "df.to_excel('data.xlsx')"
   ]
  }
 ],
 "metadata": {
  "kernelspec": {
   "display_name": "Python 3 (ipykernel)",
   "language": "python",
   "name": "python3"
  },
  "language_info": {
   "codemirror_mode": {
    "name": "ipython",
    "version": 3
   },
   "file_extension": ".py",
   "mimetype": "text/x-python",
   "name": "python",
   "nbconvert_exporter": "python",
   "pygments_lexer": "ipython3",
   "version": "3.8.8"
  }
 },
 "nbformat": 4,
 "nbformat_minor": 5
}
