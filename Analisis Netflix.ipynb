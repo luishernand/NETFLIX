{
 "cells": [
  {
   "cell_type": "markdown",
   "id": "c48ada54",
   "metadata": {},
   "source": [
    "# Analisis Netflix  \n",
    "**Librerias**"
   ]
  },
  {
   "cell_type": "code",
   "execution_count": 42,
   "id": "468cda5f",
   "metadata": {},
   "outputs": [],
   "source": [
    "import pandas as pd\n",
    "import numpy as np\n",
    "import matplotlib.pyplot as plt \n",
    "import seaborn as sns"
   ]
  },
  {
   "cell_type": "markdown",
   "id": "f4c08811",
   "metadata": {},
   "source": [
    "## carga de los datos"
   ]
  },
  {
   "cell_type": "code",
   "execution_count": 43,
   "id": "5691be75",
   "metadata": {},
   "outputs": [],
   "source": [
    "df = pd.read_csv('NetflixViewingHistory.csv', parse_dates=['Date'])"
   ]
  },
  {
   "cell_type": "code",
   "execution_count": 44,
   "id": "18820f30",
   "metadata": {},
   "outputs": [
    {
     "data": {
      "text/html": [
       "<div>\n",
       "<style scoped>\n",
       "    .dataframe tbody tr th:only-of-type {\n",
       "        vertical-align: middle;\n",
       "    }\n",
       "\n",
       "    .dataframe tbody tr th {\n",
       "        vertical-align: top;\n",
       "    }\n",
       "\n",
       "    .dataframe thead th {\n",
       "        text-align: right;\n",
       "    }\n",
       "</style>\n",
       "<table border=\"1\" class=\"dataframe\">\n",
       "  <thead>\n",
       "    <tr style=\"text-align: right;\">\n",
       "      <th></th>\n",
       "      <th>Title</th>\n",
       "      <th>Date</th>\n",
       "    </tr>\n",
       "  </thead>\n",
       "  <tbody>\n",
       "    <tr>\n",
       "      <th>0</th>\n",
       "      <td>Barbie y los delfines mágicos</td>\n",
       "      <td>2020-06-18</td>\n",
       "    </tr>\n",
       "    <tr>\n",
       "      <th>1</th>\n",
       "      <td>Patrulla de cachorros: Temporada 2: Salvemos a...</td>\n",
       "      <td>2020-06-18</td>\n",
       "    </tr>\n",
       "    <tr>\n",
       "      <th>2</th>\n",
       "      <td>Anatomía según Grey: Temporada 14: Súbete a mi...</td>\n",
       "      <td>2020-06-17</td>\n",
       "    </tr>\n",
       "    <tr>\n",
       "      <th>3</th>\n",
       "      <td>Anatomía según Grey: Temporada 14: Zona de pel...</td>\n",
       "      <td>2020-06-17</td>\n",
       "    </tr>\n",
       "    <tr>\n",
       "      <th>4</th>\n",
       "      <td>Dark: Temporada 2: Materia oscura</td>\n",
       "      <td>2020-06-16</td>\n",
       "    </tr>\n",
       "  </tbody>\n",
       "</table>\n",
       "</div>"
      ],
      "text/plain": [
       "                                               Title       Date\n",
       "0                      Barbie y los delfines mágicos 2020-06-18\n",
       "1  Patrulla de cachorros: Temporada 2: Salvemos a... 2020-06-18\n",
       "2  Anatomía según Grey: Temporada 14: Súbete a mi... 2020-06-17\n",
       "3  Anatomía según Grey: Temporada 14: Zona de pel... 2020-06-17\n",
       "4                  Dark: Temporada 2: Materia oscura 2020-06-16"
      ]
     },
     "execution_count": 44,
     "metadata": {},
     "output_type": "execute_result"
    }
   ],
   "source": [
    "df.head()"
   ]
  },
  {
   "cell_type": "code",
   "execution_count": 45,
   "id": "08670b40",
   "metadata": {},
   "outputs": [
    {
     "data": {
      "text/plain": [
       "(3729, 2)"
      ]
     },
     "execution_count": 45,
     "metadata": {},
     "output_type": "execute_result"
    }
   ],
   "source": [
    "#Cantidad de filas y columnas\n",
    "df.shape"
   ]
  },
  {
   "cell_type": "code",
   "execution_count": 46,
   "id": "3d4ee61a",
   "metadata": {},
   "outputs": [
    {
     "name": "stdout",
     "output_type": "stream",
     "text": [
      "<class 'pandas.core.frame.DataFrame'>\n",
      "RangeIndex: 3729 entries, 0 to 3728\n",
      "Data columns (total 2 columns):\n",
      " #   Column  Non-Null Count  Dtype         \n",
      "---  ------  --------------  -----         \n",
      " 0   Title   3729 non-null   object        \n",
      " 1   Date    3729 non-null   datetime64[ns]\n",
      "dtypes: datetime64[ns](1), object(1)\n",
      "memory usage: 58.4+ KB\n"
     ]
    }
   ],
   "source": [
    "#Información general\n",
    "df.info()"
   ]
  },
  {
   "cell_type": "code",
   "execution_count": 47,
   "id": "c13fbf61",
   "metadata": {},
   "outputs": [
    {
     "name": "stdout",
     "output_type": "stream",
     "text": [
      "start:  2016-03-12 00:00:00\n",
      "end:  2021-12-01 00:00:00\n"
     ]
    }
   ],
   "source": [
    "#Fechas Min y max\n",
    "print('start: ',df.Date.min())\n",
    "print('end: ',df.Date.max())"
   ]
  },
  {
   "cell_type": "markdown",
   "id": "0338b31b",
   "metadata": {},
   "source": [
    "**Comentario**  \n",
    "- existe un patron en el titulo que divide en partes por medio de los dos puntos"
   ]
  },
  {
   "cell_type": "code",
   "execution_count": 48,
   "id": "859dbf34",
   "metadata": {},
   "outputs": [
    {
     "data": {
      "text/html": [
       "<div>\n",
       "<style scoped>\n",
       "    .dataframe tbody tr th:only-of-type {\n",
       "        vertical-align: middle;\n",
       "    }\n",
       "\n",
       "    .dataframe tbody tr th {\n",
       "        vertical-align: top;\n",
       "    }\n",
       "\n",
       "    .dataframe thead th {\n",
       "        text-align: right;\n",
       "    }\n",
       "</style>\n",
       "<table border=\"1\" class=\"dataframe\">\n",
       "  <thead>\n",
       "    <tr style=\"text-align: right;\">\n",
       "      <th></th>\n",
       "      <th>Title</th>\n",
       "    </tr>\n",
       "  </thead>\n",
       "  <tbody>\n",
       "    <tr>\n",
       "      <th>0</th>\n",
       "      <td>[Barbie y los delfines mágicos]</td>\n",
       "    </tr>\n",
       "    <tr>\n",
       "      <th>1</th>\n",
       "      <td>[Patrulla de cachorros,  Temporada 2,  Salvemo...</td>\n",
       "    </tr>\n",
       "    <tr>\n",
       "      <th>2</th>\n",
       "      <td>[Anatomía según Grey,  Temporada 14,  Súbete a...</td>\n",
       "    </tr>\n",
       "    <tr>\n",
       "      <th>3</th>\n",
       "      <td>[Anatomía según Grey,  Temporada 14,  Zona de ...</td>\n",
       "    </tr>\n",
       "    <tr>\n",
       "      <th>4</th>\n",
       "      <td>[Dark,  Temporada 2,  Materia oscura]</td>\n",
       "    </tr>\n",
       "  </tbody>\n",
       "</table>\n",
       "</div>"
      ],
      "text/plain": [
       "                                               Title\n",
       "0                    [Barbie y los delfines mágicos]\n",
       "1  [Patrulla de cachorros,  Temporada 2,  Salvemo...\n",
       "2  [Anatomía según Grey,  Temporada 14,  Súbete a...\n",
       "3  [Anatomía según Grey,  Temporada 14,  Zona de ...\n",
       "4              [Dark,  Temporada 2,  Materia oscura]"
      ]
     },
     "execution_count": 48,
     "metadata": {},
     "output_type": "execute_result"
    }
   ],
   "source": [
    "#sepracion del titulo en columnas\n",
    "separacion= df.Title.str.split(pat =':', expand=False).to_frame()\n",
    "separacion.head()"
   ]
  },
  {
   "cell_type": "code",
   "execution_count": 49,
   "id": "8d9fa5d1",
   "metadata": {},
   "outputs": [
    {
     "data": {
      "text/html": [
       "<div>\n",
       "<style scoped>\n",
       "    .dataframe tbody tr th:only-of-type {\n",
       "        vertical-align: middle;\n",
       "    }\n",
       "\n",
       "    .dataframe tbody tr th {\n",
       "        vertical-align: top;\n",
       "    }\n",
       "\n",
       "    .dataframe thead th {\n",
       "        text-align: right;\n",
       "    }\n",
       "</style>\n",
       "<table border=\"1\" class=\"dataframe\">\n",
       "  <thead>\n",
       "    <tr style=\"text-align: right;\">\n",
       "      <th></th>\n",
       "      <th>Title</th>\n",
       "      <th>num_partes</th>\n",
       "    </tr>\n",
       "  </thead>\n",
       "  <tbody>\n",
       "    <tr>\n",
       "      <th>0</th>\n",
       "      <td>[Barbie y los delfines mágicos]</td>\n",
       "      <td>1</td>\n",
       "    </tr>\n",
       "    <tr>\n",
       "      <th>1</th>\n",
       "      <td>[Patrulla de cachorros,  Temporada 2,  Salvemo...</td>\n",
       "      <td>3</td>\n",
       "    </tr>\n",
       "    <tr>\n",
       "      <th>2</th>\n",
       "      <td>[Anatomía según Grey,  Temporada 14,  Súbete a...</td>\n",
       "      <td>3</td>\n",
       "    </tr>\n",
       "    <tr>\n",
       "      <th>3</th>\n",
       "      <td>[Anatomía según Grey,  Temporada 14,  Zona de ...</td>\n",
       "      <td>3</td>\n",
       "    </tr>\n",
       "    <tr>\n",
       "      <th>4</th>\n",
       "      <td>[Dark,  Temporada 2,  Materia oscura]</td>\n",
       "      <td>3</td>\n",
       "    </tr>\n",
       "  </tbody>\n",
       "</table>\n",
       "</div>"
      ],
      "text/plain": [
       "                                               Title  num_partes\n",
       "0                    [Barbie y los delfines mágicos]           1\n",
       "1  [Patrulla de cachorros,  Temporada 2,  Salvemo...           3\n",
       "2  [Anatomía según Grey,  Temporada 14,  Súbete a...           3\n",
       "3  [Anatomía según Grey,  Temporada 14,  Zona de ...           3\n",
       "4              [Dark,  Temporada 2,  Materia oscura]           3"
      ]
     },
     "execution_count": 49,
     "metadata": {},
     "output_type": "execute_result"
    }
   ],
   "source": [
    "#Conteo del numero de las partes\n",
    "separacion['num_partes'] = separacion.Title.apply(len)\n",
    "separacion.head()"
   ]
  },
  {
   "cell_type": "code",
   "execution_count": 50,
   "id": "227bcd9c",
   "metadata": {},
   "outputs": [
    {
     "data": {
      "text/plain": [
       "3    2933\n",
       "4     317\n",
       "1     236\n",
       "2     190\n",
       "5      49\n",
       "6       4\n",
       "Name: num_partes, dtype: int64"
      ]
     },
     "execution_count": 50,
     "metadata": {},
     "output_type": "execute_result"
    }
   ],
   "source": [
    "#Cantar el numero de partes\n",
    "separacion.num_partes.value_counts()"
   ]
  },
  {
   "cell_type": "code",
   "execution_count": 51,
   "id": "a62bbf60",
   "metadata": {},
   "outputs": [
    {
     "data": {
      "text/html": [
       "<div>\n",
       "<style scoped>\n",
       "    .dataframe tbody tr th:only-of-type {\n",
       "        vertical-align: middle;\n",
       "    }\n",
       "\n",
       "    .dataframe tbody tr th {\n",
       "        vertical-align: top;\n",
       "    }\n",
       "\n",
       "    .dataframe thead th {\n",
       "        text-align: right;\n",
       "    }\n",
       "</style>\n",
       "<table border=\"1\" class=\"dataframe\">\n",
       "  <thead>\n",
       "    <tr style=\"text-align: right;\">\n",
       "      <th></th>\n",
       "      <th>Title</th>\n",
       "      <th>num_partes</th>\n",
       "    </tr>\n",
       "  </thead>\n",
       "  <tbody>\n",
       "    <tr>\n",
       "      <th>1</th>\n",
       "      <td>[Patrulla de cachorros,  Temporada 2,  Salvemo...</td>\n",
       "      <td>3</td>\n",
       "    </tr>\n",
       "    <tr>\n",
       "      <th>2</th>\n",
       "      <td>[Anatomía según Grey,  Temporada 14,  Súbete a...</td>\n",
       "      <td>3</td>\n",
       "    </tr>\n",
       "    <tr>\n",
       "      <th>3</th>\n",
       "      <td>[Anatomía según Grey,  Temporada 14,  Zona de ...</td>\n",
       "      <td>3</td>\n",
       "    </tr>\n",
       "    <tr>\n",
       "      <th>4</th>\n",
       "      <td>[Dark,  Temporada 2,  Materia oscura]</td>\n",
       "      <td>3</td>\n",
       "    </tr>\n",
       "    <tr>\n",
       "      <th>5</th>\n",
       "      <td>[Dark,  Temporada 2,  Principios y finales]</td>\n",
       "      <td>3</td>\n",
       "    </tr>\n",
       "    <tr>\n",
       "      <th>6</th>\n",
       "      <td>[Anatomía según Grey,  Temporada 14,  Una pata...</td>\n",
       "      <td>3</td>\n",
       "    </tr>\n",
       "    <tr>\n",
       "      <th>7</th>\n",
       "      <td>[Anatomía según Grey,  Temporada 14,  Hazlo a ...</td>\n",
       "      <td>3</td>\n",
       "    </tr>\n",
       "    <tr>\n",
       "      <th>8</th>\n",
       "      <td>[Anatomía según Grey,  Temporada 14,  Empezar ...</td>\n",
       "      <td>3</td>\n",
       "    </tr>\n",
       "    <tr>\n",
       "      <th>10</th>\n",
       "      <td>[Élite,  Temporada 3,  Rebeca]</td>\n",
       "      <td>3</td>\n",
       "    </tr>\n",
       "    <tr>\n",
       "      <th>11</th>\n",
       "      <td>[Gotham,  Temporada 1,  Piloto]</td>\n",
       "      <td>3</td>\n",
       "    </tr>\n",
       "  </tbody>\n",
       "</table>\n",
       "</div>"
      ],
      "text/plain": [
       "                                                Title  num_partes\n",
       "1   [Patrulla de cachorros,  Temporada 2,  Salvemo...           3\n",
       "2   [Anatomía según Grey,  Temporada 14,  Súbete a...           3\n",
       "3   [Anatomía según Grey,  Temporada 14,  Zona de ...           3\n",
       "4               [Dark,  Temporada 2,  Materia oscura]           3\n",
       "5         [Dark,  Temporada 2,  Principios y finales]           3\n",
       "6   [Anatomía según Grey,  Temporada 14,  Una pata...           3\n",
       "7   [Anatomía según Grey,  Temporada 14,  Hazlo a ...           3\n",
       "8   [Anatomía según Grey,  Temporada 14,  Empezar ...           3\n",
       "10                     [Élite,  Temporada 3,  Rebeca]           3\n",
       "11                    [Gotham,  Temporada 1,  Piloto]           3"
      ]
     },
     "execution_count": 51,
     "metadata": {},
     "output_type": "execute_result"
    }
   ],
   "source": [
    "#Verificar la lista de los numeros de las partes filtrar\n",
    "separacion[separacion.num_partes==3].head(10)"
   ]
  },
  {
   "cell_type": "code",
   "execution_count": 52,
   "id": "15588392",
   "metadata": {},
   "outputs": [
    {
     "data": {
      "text/html": [
       "<div>\n",
       "<style scoped>\n",
       "    .dataframe tbody tr th:only-of-type {\n",
       "        vertical-align: middle;\n",
       "    }\n",
       "\n",
       "    .dataframe tbody tr th {\n",
       "        vertical-align: top;\n",
       "    }\n",
       "\n",
       "    .dataframe thead th {\n",
       "        text-align: right;\n",
       "    }\n",
       "</style>\n",
       "<table border=\"1\" class=\"dataframe\">\n",
       "  <thead>\n",
       "    <tr style=\"text-align: right;\">\n",
       "      <th></th>\n",
       "      <th>Title</th>\n",
       "      <th>num_partes</th>\n",
       "    </tr>\n",
       "  </thead>\n",
       "  <tbody>\n",
       "    <tr>\n",
       "      <th>0</th>\n",
       "      <td>[Barbie y los delfines mágicos]</td>\n",
       "      <td>1</td>\n",
       "    </tr>\n",
       "    <tr>\n",
       "      <th>9</th>\n",
       "      <td>[365 días]</td>\n",
       "      <td>1</td>\n",
       "    </tr>\n",
       "    <tr>\n",
       "      <th>26</th>\n",
       "      <td>[Toy Story]</td>\n",
       "      <td>1</td>\n",
       "    </tr>\n",
       "    <tr>\n",
       "      <th>41</th>\n",
       "      <td>[The Innocents]</td>\n",
       "      <td>1</td>\n",
       "    </tr>\n",
       "    <tr>\n",
       "      <th>42</th>\n",
       "      <td>[Playing for Time]</td>\n",
       "      <td>1</td>\n",
       "    </tr>\n",
       "    <tr>\n",
       "      <th>55</th>\n",
       "      <td>[Toy Story 2]</td>\n",
       "      <td>1</td>\n",
       "    </tr>\n",
       "    <tr>\n",
       "      <th>56</th>\n",
       "      <td>[Bailarina]</td>\n",
       "      <td>1</td>\n",
       "    </tr>\n",
       "    <tr>\n",
       "      <th>61</th>\n",
       "      <td>[Madagascar]</td>\n",
       "      <td>1</td>\n",
       "    </tr>\n",
       "    <tr>\n",
       "      <th>95</th>\n",
       "      <td>[Intensamente]</td>\n",
       "      <td>1</td>\n",
       "    </tr>\n",
       "    <tr>\n",
       "      <th>105</th>\n",
       "      <td>[Toy Story 3]</td>\n",
       "      <td>1</td>\n",
       "    </tr>\n",
       "  </tbody>\n",
       "</table>\n",
       "</div>"
      ],
      "text/plain": [
       "                               Title  num_partes\n",
       "0    [Barbie y los delfines mágicos]           1\n",
       "9                         [365 días]           1\n",
       "26                       [Toy Story]           1\n",
       "41                   [The Innocents]           1\n",
       "42                [Playing for Time]           1\n",
       "55                     [Toy Story 2]           1\n",
       "56                       [Bailarina]           1\n",
       "61                      [Madagascar]           1\n",
       "95                    [Intensamente]           1\n",
       "105                    [Toy Story 3]           1"
      ]
     },
     "execution_count": 52,
     "metadata": {},
     "output_type": "execute_result"
    }
   ],
   "source": [
    "separacion[separacion.num_partes==1].head(10)"
   ]
  },
  {
   "cell_type": "code",
   "execution_count": 53,
   "id": "15ca7df4",
   "metadata": {},
   "outputs": [
    {
     "data": {
      "text/html": [
       "<div>\n",
       "<style scoped>\n",
       "    .dataframe tbody tr th:only-of-type {\n",
       "        vertical-align: middle;\n",
       "    }\n",
       "\n",
       "    .dataframe tbody tr th {\n",
       "        vertical-align: top;\n",
       "    }\n",
       "\n",
       "    .dataframe thead th {\n",
       "        text-align: right;\n",
       "    }\n",
       "</style>\n",
       "<table border=\"1\" class=\"dataframe\">\n",
       "  <thead>\n",
       "    <tr style=\"text-align: right;\">\n",
       "      <th></th>\n",
       "      <th>Title</th>\n",
       "      <th>num_partes</th>\n",
       "    </tr>\n",
       "  </thead>\n",
       "  <tbody>\n",
       "    <tr>\n",
       "      <th>40</th>\n",
       "      <td>[Trolls,  Vamos a festejar]</td>\n",
       "      <td>2</td>\n",
       "    </tr>\n",
       "    <tr>\n",
       "      <th>51</th>\n",
       "      <td>[El Gato con Botas,  Atrapado en un cuento épico]</td>\n",
       "      <td>2</td>\n",
       "    </tr>\n",
       "    <tr>\n",
       "      <th>72</th>\n",
       "      <td>[Poco ortodoxa,  Detrás de cámaras]</td>\n",
       "      <td>2</td>\n",
       "    </tr>\n",
       "    <tr>\n",
       "      <th>89</th>\n",
       "      <td>[Batman vs Superman,  El origen de la justicia]</td>\n",
       "      <td>2</td>\n",
       "    </tr>\n",
       "    <tr>\n",
       "      <th>90</th>\n",
       "      <td>[Baywatch,  Guardianes de la bahía]</td>\n",
       "      <td>2</td>\n",
       "    </tr>\n",
       "    <tr>\n",
       "      <th>92</th>\n",
       "      <td>[La casa de papel,  El fenómeno]</td>\n",
       "      <td>2</td>\n",
       "    </tr>\n",
       "    <tr>\n",
       "      <th>104</th>\n",
       "      <td>[Space Jam,  El juego del siglo]</td>\n",
       "      <td>2</td>\n",
       "    </tr>\n",
       "    <tr>\n",
       "      <th>135</th>\n",
       "      <td>[Misión imposible,  Protocolo fantasma]</td>\n",
       "      <td>2</td>\n",
       "    </tr>\n",
       "    <tr>\n",
       "      <th>136</th>\n",
       "      <td>[Misión,  imposible 5 - Nación secreta]</td>\n",
       "      <td>2</td>\n",
       "    </tr>\n",
       "    <tr>\n",
       "      <th>202</th>\n",
       "      <td>[Code 8,  Renegados]</td>\n",
       "      <td>2</td>\n",
       "    </tr>\n",
       "  </tbody>\n",
       "</table>\n",
       "</div>"
      ],
      "text/plain": [
       "                                                 Title  num_partes\n",
       "40                         [Trolls,  Vamos a festejar]           2\n",
       "51   [El Gato con Botas,  Atrapado en un cuento épico]           2\n",
       "72                 [Poco ortodoxa,  Detrás de cámaras]           2\n",
       "89     [Batman vs Superman,  El origen de la justicia]           2\n",
       "90                 [Baywatch,  Guardianes de la bahía]           2\n",
       "92                    [La casa de papel,  El fenómeno]           2\n",
       "104                   [Space Jam,  El juego del siglo]           2\n",
       "135            [Misión imposible,  Protocolo fantasma]           2\n",
       "136            [Misión,  imposible 5 - Nación secreta]           2\n",
       "202                               [Code 8,  Renegados]           2"
      ]
     },
     "execution_count": 53,
     "metadata": {},
     "output_type": "execute_result"
    }
   ],
   "source": [
    "separacion[separacion.num_partes==2].head(10)"
   ]
  },
  {
   "cell_type": "code",
   "execution_count": 54,
   "id": "23df5be8",
   "metadata": {},
   "outputs": [
    {
     "data": {
      "text/html": [
       "<div>\n",
       "<style scoped>\n",
       "    .dataframe tbody tr th:only-of-type {\n",
       "        vertical-align: middle;\n",
       "    }\n",
       "\n",
       "    .dataframe tbody tr th {\n",
       "        vertical-align: top;\n",
       "    }\n",
       "\n",
       "    .dataframe thead th {\n",
       "        text-align: right;\n",
       "    }\n",
       "</style>\n",
       "<table border=\"1\" class=\"dataframe\">\n",
       "  <thead>\n",
       "    <tr style=\"text-align: right;\">\n",
       "      <th></th>\n",
       "      <th>Title</th>\n",
       "      <th>num_partes</th>\n",
       "    </tr>\n",
       "  </thead>\n",
       "  <tbody>\n",
       "    <tr>\n",
       "      <th>34</th>\n",
       "      <td>[Historia,  Nivel 1,  Temporada 1,  La comida ...</td>\n",
       "      <td>4</td>\n",
       "    </tr>\n",
       "    <tr>\n",
       "      <th>35</th>\n",
       "      <td>[Historia,  Nivel 1,  Temporada 1,  El SIDA]</td>\n",
       "      <td>4</td>\n",
       "    </tr>\n",
       "    <tr>\n",
       "      <th>36</th>\n",
       "      <td>[Miraculous,  Las aventuras de Ladybug,  Tempo...</td>\n",
       "      <td>4</td>\n",
       "    </tr>\n",
       "    <tr>\n",
       "      <th>37</th>\n",
       "      <td>[Miraculous,  Las aventuras de Ladybug,  Tempo...</td>\n",
       "      <td>4</td>\n",
       "    </tr>\n",
       "    <tr>\n",
       "      <th>43</th>\n",
       "      <td>[Historia,  Nivel 1,  Temporada 1,  La energía...</td>\n",
       "      <td>4</td>\n",
       "    </tr>\n",
       "    <tr>\n",
       "      <th>44</th>\n",
       "      <td>[Historia,  Nivel 1,  Temporada 1,  Los plásti...</td>\n",
       "      <td>4</td>\n",
       "    </tr>\n",
       "    <tr>\n",
       "      <th>45</th>\n",
       "      <td>[Historia,  Nivel 1,  Temporada 1,  El petróle...</td>\n",
       "      <td>4</td>\n",
       "    </tr>\n",
       "    <tr>\n",
       "      <th>52</th>\n",
       "      <td>[Historia,  Nivel 1,  Temporada 1,  La genética]</td>\n",
       "      <td>4</td>\n",
       "    </tr>\n",
       "    <tr>\n",
       "      <th>58</th>\n",
       "      <td>[Historia,  Nivel 1,  Temporada 1,  China en l...</td>\n",
       "      <td>4</td>\n",
       "    </tr>\n",
       "    <tr>\n",
       "      <th>62</th>\n",
       "      <td>[Historia,  Nivel 1,  Temporada 1,  La carrera...</td>\n",
       "      <td>4</td>\n",
       "    </tr>\n",
       "  </tbody>\n",
       "</table>\n",
       "</div>"
      ],
      "text/plain": [
       "                                                Title  num_partes\n",
       "34  [Historia,  Nivel 1,  Temporada 1,  La comida ...           4\n",
       "35       [Historia,  Nivel 1,  Temporada 1,  El SIDA]           4\n",
       "36  [Miraculous,  Las aventuras de Ladybug,  Tempo...           4\n",
       "37  [Miraculous,  Las aventuras de Ladybug,  Tempo...           4\n",
       "43  [Historia,  Nivel 1,  Temporada 1,  La energía...           4\n",
       "44  [Historia,  Nivel 1,  Temporada 1,  Los plásti...           4\n",
       "45  [Historia,  Nivel 1,  Temporada 1,  El petróle...           4\n",
       "52   [Historia,  Nivel 1,  Temporada 1,  La genética]           4\n",
       "58  [Historia,  Nivel 1,  Temporada 1,  China en l...           4\n",
       "62  [Historia,  Nivel 1,  Temporada 1,  La carrera...           4"
      ]
     },
     "execution_count": 54,
     "metadata": {},
     "output_type": "execute_result"
    }
   ],
   "source": [
    "separacion[separacion.num_partes==4].head(10)"
   ]
  },
  {
   "cell_type": "markdown",
   "id": "ec24d94a",
   "metadata": {},
   "source": [
    "## Crear variables"
   ]
  },
  {
   "cell_type": "markdown",
   "id": "e9065f00",
   "metadata": {},
   "source": [
    "### Variables derivadas del titulo"
   ]
  },
  {
   "cell_type": "code",
   "execution_count": 55,
   "id": "74b29238",
   "metadata": {},
   "outputs": [
    {
     "data": {
      "text/html": [
       "<div>\n",
       "<style scoped>\n",
       "    .dataframe tbody tr th:only-of-type {\n",
       "        vertical-align: middle;\n",
       "    }\n",
       "\n",
       "    .dataframe tbody tr th {\n",
       "        vertical-align: top;\n",
       "    }\n",
       "\n",
       "    .dataframe thead th {\n",
       "        text-align: right;\n",
       "    }\n",
       "</style>\n",
       "<table border=\"1\" class=\"dataframe\">\n",
       "  <thead>\n",
       "    <tr style=\"text-align: right;\">\n",
       "      <th></th>\n",
       "      <th>Title</th>\n",
       "      <th>num_partes</th>\n",
       "      <th>tipo</th>\n",
       "    </tr>\n",
       "  </thead>\n",
       "  <tbody>\n",
       "    <tr>\n",
       "      <th>0</th>\n",
       "      <td>[Barbie y los delfines mágicos]</td>\n",
       "      <td>1</td>\n",
       "      <td>pelicula</td>\n",
       "    </tr>\n",
       "    <tr>\n",
       "      <th>1</th>\n",
       "      <td>[Patrulla de cachorros,  Temporada 2,  Salvemo...</td>\n",
       "      <td>3</td>\n",
       "      <td>serie</td>\n",
       "    </tr>\n",
       "    <tr>\n",
       "      <th>2</th>\n",
       "      <td>[Anatomía según Grey,  Temporada 14,  Súbete a...</td>\n",
       "      <td>3</td>\n",
       "      <td>serie</td>\n",
       "    </tr>\n",
       "    <tr>\n",
       "      <th>3</th>\n",
       "      <td>[Anatomía según Grey,  Temporada 14,  Zona de ...</td>\n",
       "      <td>3</td>\n",
       "      <td>serie</td>\n",
       "    </tr>\n",
       "    <tr>\n",
       "      <th>4</th>\n",
       "      <td>[Dark,  Temporada 2,  Materia oscura]</td>\n",
       "      <td>3</td>\n",
       "      <td>serie</td>\n",
       "    </tr>\n",
       "  </tbody>\n",
       "</table>\n",
       "</div>"
      ],
      "text/plain": [
       "                                               Title  num_partes      tipo\n",
       "0                    [Barbie y los delfines mágicos]           1  pelicula\n",
       "1  [Patrulla de cachorros,  Temporada 2,  Salvemo...           3     serie\n",
       "2  [Anatomía según Grey,  Temporada 14,  Súbete a...           3     serie\n",
       "3  [Anatomía según Grey,  Temporada 14,  Zona de ...           3     serie\n",
       "4              [Dark,  Temporada 2,  Materia oscura]           3     serie"
      ]
     },
     "execution_count": 55,
     "metadata": {},
     "output_type": "execute_result"
    }
   ],
   "source": [
    "#Crear la column tipo: cuando el numero de partes sea menor a tres \n",
    "#consideramos como pelicula lo de mas sera una serie\n",
    "separacion['tipo'] = np.where(separacion.num_partes<3,'pelicula','serie')\n",
    "separacion.head()"
   ]
  },
  {
   "cell_type": "code",
   "execution_count": 56,
   "id": "a667ee8e",
   "metadata": {},
   "outputs": [
    {
     "data": {
      "text/plain": [
       "serie       3303\n",
       "pelicula     426\n",
       "Name: tipo, dtype: int64"
      ]
     },
     "execution_count": 56,
     "metadata": {},
     "output_type": "execute_result"
    }
   ],
   "source": [
    "separacion.tipo.value_counts()"
   ]
  },
  {
   "cell_type": "code",
   "execution_count": 57,
   "id": "358111ed",
   "metadata": {},
   "outputs": [
    {
     "data": {
      "text/plain": [
       "3    2933\n",
       "4     317\n",
       "1     236\n",
       "2     190\n",
       "5      49\n",
       "6       4\n",
       "Name: num_partes, dtype: int64"
      ]
     },
     "execution_count": 57,
     "metadata": {},
     "output_type": "execute_result"
    }
   ],
   "source": [
    "separacion.num_partes.value_counts()"
   ]
  },
  {
   "cell_type": "code",
   "execution_count": 58,
   "id": "c1aa9e02",
   "metadata": {},
   "outputs": [
    {
     "data": {
      "text/html": [
       "<div>\n",
       "<style scoped>\n",
       "    .dataframe tbody tr th:only-of-type {\n",
       "        vertical-align: middle;\n",
       "    }\n",
       "\n",
       "    .dataframe tbody tr th {\n",
       "        vertical-align: top;\n",
       "    }\n",
       "\n",
       "    .dataframe thead th {\n",
       "        text-align: right;\n",
       "    }\n",
       "</style>\n",
       "<table border=\"1\" class=\"dataframe\">\n",
       "  <thead>\n",
       "    <tr style=\"text-align: right;\">\n",
       "      <th></th>\n",
       "      <th>Title</th>\n",
       "      <th>Date</th>\n",
       "      <th>tipo</th>\n",
       "    </tr>\n",
       "  </thead>\n",
       "  <tbody>\n",
       "    <tr>\n",
       "      <th>0</th>\n",
       "      <td>Barbie y los delfines mágicos</td>\n",
       "      <td>2020-06-18</td>\n",
       "      <td>pelicula</td>\n",
       "    </tr>\n",
       "    <tr>\n",
       "      <th>1</th>\n",
       "      <td>Patrulla de cachorros: Temporada 2: Salvemos a...</td>\n",
       "      <td>2020-06-18</td>\n",
       "      <td>serie</td>\n",
       "    </tr>\n",
       "    <tr>\n",
       "      <th>2</th>\n",
       "      <td>Anatomía según Grey: Temporada 14: Súbete a mi...</td>\n",
       "      <td>2020-06-17</td>\n",
       "      <td>serie</td>\n",
       "    </tr>\n",
       "    <tr>\n",
       "      <th>3</th>\n",
       "      <td>Anatomía según Grey: Temporada 14: Zona de pel...</td>\n",
       "      <td>2020-06-17</td>\n",
       "      <td>serie</td>\n",
       "    </tr>\n",
       "    <tr>\n",
       "      <th>4</th>\n",
       "      <td>Dark: Temporada 2: Materia oscura</td>\n",
       "      <td>2020-06-16</td>\n",
       "      <td>serie</td>\n",
       "    </tr>\n",
       "  </tbody>\n",
       "</table>\n",
       "</div>"
      ],
      "text/plain": [
       "                                               Title       Date      tipo\n",
       "0                      Barbie y los delfines mágicos 2020-06-18  pelicula\n",
       "1  Patrulla de cachorros: Temporada 2: Salvemos a... 2020-06-18     serie\n",
       "2  Anatomía según Grey: Temporada 14: Súbete a mi... 2020-06-17     serie\n",
       "3  Anatomía según Grey: Temporada 14: Zona de pel... 2020-06-17     serie\n",
       "4                  Dark: Temporada 2: Materia oscura 2020-06-16     serie"
      ]
     },
     "execution_count": 58,
     "metadata": {},
     "output_type": "execute_result"
    }
   ],
   "source": [
    "#unir la calumna tipo de separacion al df\n",
    "df = pd.concat([df, separacion['tipo']], axis = 1)\n",
    "df.head()"
   ]
  },
  {
   "cell_type": "code",
   "execution_count": 59,
   "id": "b89198aa",
   "metadata": {},
   "outputs": [
    {
     "data": {
      "text/html": [
       "<div>\n",
       "<style scoped>\n",
       "    .dataframe tbody tr th:only-of-type {\n",
       "        vertical-align: middle;\n",
       "    }\n",
       "\n",
       "    .dataframe tbody tr th {\n",
       "        vertical-align: top;\n",
       "    }\n",
       "\n",
       "    .dataframe thead th {\n",
       "        text-align: right;\n",
       "    }\n",
       "</style>\n",
       "<table border=\"1\" class=\"dataframe\">\n",
       "  <thead>\n",
       "    <tr style=\"text-align: right;\">\n",
       "      <th></th>\n",
       "      <th>Titulo</th>\n",
       "      <th>nivel1</th>\n",
       "      <th>nivel2</th>\n",
       "      <th>nivel3</th>\n",
       "      <th>nivel4</th>\n",
       "      <th>nivel5</th>\n",
       "    </tr>\n",
       "  </thead>\n",
       "  <tbody>\n",
       "    <tr>\n",
       "      <th>0</th>\n",
       "      <td>Barbie y los delfines mágicos</td>\n",
       "      <td>None</td>\n",
       "      <td>None</td>\n",
       "      <td>None</td>\n",
       "      <td>None</td>\n",
       "      <td>None</td>\n",
       "    </tr>\n",
       "    <tr>\n",
       "      <th>1</th>\n",
       "      <td>Patrulla de cachorros</td>\n",
       "      <td>Temporada 2</td>\n",
       "      <td>Salvemos a los pingüinos / El rescate del delfín</td>\n",
       "      <td>None</td>\n",
       "      <td>None</td>\n",
       "      <td>None</td>\n",
       "    </tr>\n",
       "    <tr>\n",
       "      <th>2</th>\n",
       "      <td>Anatomía según Grey</td>\n",
       "      <td>Temporada 14</td>\n",
       "      <td>Súbete a mi barco, cariño</td>\n",
       "      <td>None</td>\n",
       "      <td>None</td>\n",
       "      <td>None</td>\n",
       "    </tr>\n",
       "    <tr>\n",
       "      <th>3</th>\n",
       "      <td>Anatomía según Grey</td>\n",
       "      <td>Temporada 14</td>\n",
       "      <td>Zona de peligro</td>\n",
       "      <td>None</td>\n",
       "      <td>None</td>\n",
       "      <td>None</td>\n",
       "    </tr>\n",
       "    <tr>\n",
       "      <th>4</th>\n",
       "      <td>Dark</td>\n",
       "      <td>Temporada 2</td>\n",
       "      <td>Materia oscura</td>\n",
       "      <td>None</td>\n",
       "      <td>None</td>\n",
       "      <td>None</td>\n",
       "    </tr>\n",
       "  </tbody>\n",
       "</table>\n",
       "</div>"
      ],
      "text/plain": [
       "                          Titulo         nivel1  \\\n",
       "0  Barbie y los delfines mágicos           None   \n",
       "1          Patrulla de cachorros    Temporada 2   \n",
       "2            Anatomía según Grey   Temporada 14   \n",
       "3            Anatomía según Grey   Temporada 14   \n",
       "4                           Dark    Temporada 2   \n",
       "\n",
       "                                              nivel2 nivel3 nivel4 nivel5  \n",
       "0                                               None   None   None   None  \n",
       "1   Salvemos a los pingüinos / El rescate del delfín   None   None   None  \n",
       "2                          Súbete a mi barco, cariño   None   None   None  \n",
       "3                                    Zona de peligro   None   None   None  \n",
       "4                                     Materia oscura   None   None   None  "
      ]
     },
     "execution_count": 59,
     "metadata": {},
     "output_type": "execute_result"
    }
   ],
   "source": [
    "#Dividir los tipos en sus diferentes niveles\n",
    "separacion_cols = df.Title.str.split(':', expand=True)\n",
    "#Renombrar las columnas\n",
    "separacion_cols.columns= ['Titulo', 'nivel1','nivel2','nivel3', 'nivel4', 'nivel5']\n",
    "separacion_cols.head()"
   ]
  },
  {
   "cell_type": "code",
   "execution_count": 60,
   "id": "520e1c5e",
   "metadata": {},
   "outputs": [
    {
     "data": {
      "text/html": [
       "<div>\n",
       "<style scoped>\n",
       "    .dataframe tbody tr th:only-of-type {\n",
       "        vertical-align: middle;\n",
       "    }\n",
       "\n",
       "    .dataframe tbody tr th {\n",
       "        vertical-align: top;\n",
       "    }\n",
       "\n",
       "    .dataframe thead th {\n",
       "        text-align: right;\n",
       "    }\n",
       "</style>\n",
       "<table border=\"1\" class=\"dataframe\">\n",
       "  <thead>\n",
       "    <tr style=\"text-align: right;\">\n",
       "      <th></th>\n",
       "      <th>Title</th>\n",
       "      <th>Date</th>\n",
       "      <th>tipo</th>\n",
       "      <th>Titulo</th>\n",
       "      <th>nivel1</th>\n",
       "      <th>nivel2</th>\n",
       "      <th>nivel3</th>\n",
       "    </tr>\n",
       "  </thead>\n",
       "  <tbody>\n",
       "    <tr>\n",
       "      <th>0</th>\n",
       "      <td>Barbie y los delfines mágicos</td>\n",
       "      <td>2020-06-18</td>\n",
       "      <td>pelicula</td>\n",
       "      <td>Barbie y los delfines mágicos</td>\n",
       "      <td>None</td>\n",
       "      <td>None</td>\n",
       "      <td>None</td>\n",
       "    </tr>\n",
       "    <tr>\n",
       "      <th>1</th>\n",
       "      <td>Patrulla de cachorros: Temporada 2: Salvemos a...</td>\n",
       "      <td>2020-06-18</td>\n",
       "      <td>serie</td>\n",
       "      <td>Patrulla de cachorros</td>\n",
       "      <td>Temporada 2</td>\n",
       "      <td>Salvemos a los pingüinos / El rescate del delfín</td>\n",
       "      <td>None</td>\n",
       "    </tr>\n",
       "    <tr>\n",
       "      <th>2</th>\n",
       "      <td>Anatomía según Grey: Temporada 14: Súbete a mi...</td>\n",
       "      <td>2020-06-17</td>\n",
       "      <td>serie</td>\n",
       "      <td>Anatomía según Grey</td>\n",
       "      <td>Temporada 14</td>\n",
       "      <td>Súbete a mi barco, cariño</td>\n",
       "      <td>None</td>\n",
       "    </tr>\n",
       "    <tr>\n",
       "      <th>3</th>\n",
       "      <td>Anatomía según Grey: Temporada 14: Zona de pel...</td>\n",
       "      <td>2020-06-17</td>\n",
       "      <td>serie</td>\n",
       "      <td>Anatomía según Grey</td>\n",
       "      <td>Temporada 14</td>\n",
       "      <td>Zona de peligro</td>\n",
       "      <td>None</td>\n",
       "    </tr>\n",
       "    <tr>\n",
       "      <th>4</th>\n",
       "      <td>Dark: Temporada 2: Materia oscura</td>\n",
       "      <td>2020-06-16</td>\n",
       "      <td>serie</td>\n",
       "      <td>Dark</td>\n",
       "      <td>Temporada 2</td>\n",
       "      <td>Materia oscura</td>\n",
       "      <td>None</td>\n",
       "    </tr>\n",
       "  </tbody>\n",
       "</table>\n",
       "</div>"
      ],
      "text/plain": [
       "                                               Title       Date      tipo  \\\n",
       "0                      Barbie y los delfines mágicos 2020-06-18  pelicula   \n",
       "1  Patrulla de cachorros: Temporada 2: Salvemos a... 2020-06-18     serie   \n",
       "2  Anatomía según Grey: Temporada 14: Súbete a mi... 2020-06-17     serie   \n",
       "3  Anatomía según Grey: Temporada 14: Zona de pel... 2020-06-17     serie   \n",
       "4                  Dark: Temporada 2: Materia oscura 2020-06-16     serie   \n",
       "\n",
       "                          Titulo         nivel1  \\\n",
       "0  Barbie y los delfines mágicos           None   \n",
       "1          Patrulla de cachorros    Temporada 2   \n",
       "2            Anatomía según Grey   Temporada 14   \n",
       "3            Anatomía según Grey   Temporada 14   \n",
       "4                           Dark    Temporada 2   \n",
       "\n",
       "                                              nivel2 nivel3  \n",
       "0                                               None   None  \n",
       "1   Salvemos a los pingüinos / El rescate del delfín   None  \n",
       "2                          Súbete a mi barco, cariño   None  \n",
       "3                                    Zona de peligro   None  \n",
       "4                                     Materia oscura   None  "
      ]
     },
     "execution_count": 60,
     "metadata": {},
     "output_type": "execute_result"
    }
   ],
   "source": [
    "#Unir al dataset\n",
    "df =pd.concat([df, separacion_cols[['Titulo','nivel1','nivel2','nivel3']]], axis =1)\n",
    "df.head()"
   ]
  },
  {
   "cell_type": "markdown",
   "id": "a8409792",
   "metadata": {},
   "source": [
    "### Variables derivadas de la fecha"
   ]
  },
  {
   "cell_type": "code",
   "execution_count": 61,
   "id": "36a406b6",
   "metadata": {},
   "outputs": [
    {
     "data": {
      "text/html": [
       "<div>\n",
       "<style scoped>\n",
       "    .dataframe tbody tr th:only-of-type {\n",
       "        vertical-align: middle;\n",
       "    }\n",
       "\n",
       "    .dataframe tbody tr th {\n",
       "        vertical-align: top;\n",
       "    }\n",
       "\n",
       "    .dataframe thead th {\n",
       "        text-align: right;\n",
       "    }\n",
       "</style>\n",
       "<table border=\"1\" class=\"dataframe\">\n",
       "  <thead>\n",
       "    <tr style=\"text-align: right;\">\n",
       "      <th></th>\n",
       "      <th>Title</th>\n",
       "      <th>tipo</th>\n",
       "      <th>Titulo</th>\n",
       "      <th>nivel1</th>\n",
       "      <th>nivel2</th>\n",
       "      <th>nivel3</th>\n",
       "    </tr>\n",
       "    <tr>\n",
       "      <th>Date</th>\n",
       "      <th></th>\n",
       "      <th></th>\n",
       "      <th></th>\n",
       "      <th></th>\n",
       "      <th></th>\n",
       "      <th></th>\n",
       "    </tr>\n",
       "  </thead>\n",
       "  <tbody>\n",
       "    <tr>\n",
       "      <th>2020-06-18</th>\n",
       "      <td>Barbie y los delfines mágicos</td>\n",
       "      <td>pelicula</td>\n",
       "      <td>Barbie y los delfines mágicos</td>\n",
       "      <td>None</td>\n",
       "      <td>None</td>\n",
       "      <td>None</td>\n",
       "    </tr>\n",
       "    <tr>\n",
       "      <th>2020-06-18</th>\n",
       "      <td>Patrulla de cachorros: Temporada 2: Salvemos a...</td>\n",
       "      <td>serie</td>\n",
       "      <td>Patrulla de cachorros</td>\n",
       "      <td>Temporada 2</td>\n",
       "      <td>Salvemos a los pingüinos / El rescate del delfín</td>\n",
       "      <td>None</td>\n",
       "    </tr>\n",
       "  </tbody>\n",
       "</table>\n",
       "</div>"
      ],
      "text/plain": [
       "                                                        Title      tipo  \\\n",
       "Date                                                                      \n",
       "2020-06-18                      Barbie y los delfines mágicos  pelicula   \n",
       "2020-06-18  Patrulla de cachorros: Temporada 2: Salvemos a...     serie   \n",
       "\n",
       "                                   Titulo        nivel1  \\\n",
       "Date                                                      \n",
       "2020-06-18  Barbie y los delfines mágicos          None   \n",
       "2020-06-18          Patrulla de cachorros   Temporada 2   \n",
       "\n",
       "                                                       nivel2 nivel3  \n",
       "Date                                                                  \n",
       "2020-06-18                                               None   None  \n",
       "2020-06-18   Salvemos a los pingüinos / El rescate del delfín   None  "
      ]
     },
     "execution_count": 61,
     "metadata": {},
     "output_type": "execute_result"
    }
   ],
   "source": [
    "#cololocar la fecha como indice\n",
    "df.set_index('Date', inplace =True)\n",
    "df.head(2)"
   ]
  },
  {
   "cell_type": "code",
   "execution_count": 62,
   "id": "4cd70655",
   "metadata": {},
   "outputs": [],
   "source": [
    "#Funcion parat extraer de la fecha los componentes (año, mes.....)\n",
    "def ext_fecha(data):\n",
    "    data['año'] = data.index.year\n",
    "    data['mes'] = data.index.month_name()\n",
    "    data['mes_num'] = data.index.month\n",
    "    data['dia_mes'] = data.index.day\n",
    "    data['dia_semana'] =data.index.day_name()\n",
    "    return data"
   ]
  },
  {
   "cell_type": "code",
   "execution_count": 63,
   "id": "965ea779",
   "metadata": {},
   "outputs": [
    {
     "data": {
      "text/html": [
       "<div>\n",
       "<style scoped>\n",
       "    .dataframe tbody tr th:only-of-type {\n",
       "        vertical-align: middle;\n",
       "    }\n",
       "\n",
       "    .dataframe tbody tr th {\n",
       "        vertical-align: top;\n",
       "    }\n",
       "\n",
       "    .dataframe thead th {\n",
       "        text-align: right;\n",
       "    }\n",
       "</style>\n",
       "<table border=\"1\" class=\"dataframe\">\n",
       "  <thead>\n",
       "    <tr style=\"text-align: right;\">\n",
       "      <th></th>\n",
       "      <th>Title</th>\n",
       "      <th>tipo</th>\n",
       "      <th>Titulo</th>\n",
       "      <th>nivel1</th>\n",
       "      <th>nivel2</th>\n",
       "      <th>nivel3</th>\n",
       "      <th>año</th>\n",
       "      <th>mes</th>\n",
       "      <th>mes_num</th>\n",
       "      <th>dia_mes</th>\n",
       "      <th>dia_semana</th>\n",
       "    </tr>\n",
       "    <tr>\n",
       "      <th>Date</th>\n",
       "      <th></th>\n",
       "      <th></th>\n",
       "      <th></th>\n",
       "      <th></th>\n",
       "      <th></th>\n",
       "      <th></th>\n",
       "      <th></th>\n",
       "      <th></th>\n",
       "      <th></th>\n",
       "      <th></th>\n",
       "      <th></th>\n",
       "    </tr>\n",
       "  </thead>\n",
       "  <tbody>\n",
       "    <tr>\n",
       "      <th>2020-06-18</th>\n",
       "      <td>Barbie y los delfines mágicos</td>\n",
       "      <td>pelicula</td>\n",
       "      <td>Barbie y los delfines mágicos</td>\n",
       "      <td>None</td>\n",
       "      <td>None</td>\n",
       "      <td>None</td>\n",
       "      <td>2020</td>\n",
       "      <td>June</td>\n",
       "      <td>6</td>\n",
       "      <td>18</td>\n",
       "      <td>Thursday</td>\n",
       "    </tr>\n",
       "    <tr>\n",
       "      <th>2020-06-18</th>\n",
       "      <td>Patrulla de cachorros: Temporada 2: Salvemos a...</td>\n",
       "      <td>serie</td>\n",
       "      <td>Patrulla de cachorros</td>\n",
       "      <td>Temporada 2</td>\n",
       "      <td>Salvemos a los pingüinos / El rescate del delfín</td>\n",
       "      <td>None</td>\n",
       "      <td>2020</td>\n",
       "      <td>June</td>\n",
       "      <td>6</td>\n",
       "      <td>18</td>\n",
       "      <td>Thursday</td>\n",
       "    </tr>\n",
       "    <tr>\n",
       "      <th>2020-06-17</th>\n",
       "      <td>Anatomía según Grey: Temporada 14: Súbete a mi...</td>\n",
       "      <td>serie</td>\n",
       "      <td>Anatomía según Grey</td>\n",
       "      <td>Temporada 14</td>\n",
       "      <td>Súbete a mi barco, cariño</td>\n",
       "      <td>None</td>\n",
       "      <td>2020</td>\n",
       "      <td>June</td>\n",
       "      <td>6</td>\n",
       "      <td>17</td>\n",
       "      <td>Wednesday</td>\n",
       "    </tr>\n",
       "    <tr>\n",
       "      <th>2020-06-17</th>\n",
       "      <td>Anatomía según Grey: Temporada 14: Zona de pel...</td>\n",
       "      <td>serie</td>\n",
       "      <td>Anatomía según Grey</td>\n",
       "      <td>Temporada 14</td>\n",
       "      <td>Zona de peligro</td>\n",
       "      <td>None</td>\n",
       "      <td>2020</td>\n",
       "      <td>June</td>\n",
       "      <td>6</td>\n",
       "      <td>17</td>\n",
       "      <td>Wednesday</td>\n",
       "    </tr>\n",
       "    <tr>\n",
       "      <th>2020-06-16</th>\n",
       "      <td>Dark: Temporada 2: Materia oscura</td>\n",
       "      <td>serie</td>\n",
       "      <td>Dark</td>\n",
       "      <td>Temporada 2</td>\n",
       "      <td>Materia oscura</td>\n",
       "      <td>None</td>\n",
       "      <td>2020</td>\n",
       "      <td>June</td>\n",
       "      <td>6</td>\n",
       "      <td>16</td>\n",
       "      <td>Tuesday</td>\n",
       "    </tr>\n",
       "    <tr>\n",
       "      <th>...</th>\n",
       "      <td>...</td>\n",
       "      <td>...</td>\n",
       "      <td>...</td>\n",
       "      <td>...</td>\n",
       "      <td>...</td>\n",
       "      <td>...</td>\n",
       "      <td>...</td>\n",
       "      <td>...</td>\n",
       "      <td>...</td>\n",
       "      <td>...</td>\n",
       "      <td>...</td>\n",
       "    </tr>\n",
       "    <tr>\n",
       "      <th>2019-06-30</th>\n",
       "      <td>Las chicas del cable: Temporada 1: Capítulo 5:...</td>\n",
       "      <td>serie</td>\n",
       "      <td>Las chicas del cable</td>\n",
       "      <td>Temporada 1</td>\n",
       "      <td>Capítulo 5</td>\n",
       "      <td>El pasado</td>\n",
       "      <td>2019</td>\n",
       "      <td>June</td>\n",
       "      <td>6</td>\n",
       "      <td>30</td>\n",
       "      <td>Sunday</td>\n",
       "    </tr>\n",
       "    <tr>\n",
       "      <th>2019-06-30</th>\n",
       "      <td>Las chicas del cable: Temporada 1: Capítulo 4:...</td>\n",
       "      <td>serie</td>\n",
       "      <td>Las chicas del cable</td>\n",
       "      <td>Temporada 1</td>\n",
       "      <td>Capítulo 4</td>\n",
       "      <td>Los sentimientos</td>\n",
       "      <td>2019</td>\n",
       "      <td>June</td>\n",
       "      <td>6</td>\n",
       "      <td>30</td>\n",
       "      <td>Sunday</td>\n",
       "    </tr>\n",
       "    <tr>\n",
       "      <th>2019-06-30</th>\n",
       "      <td>Las chicas del cable: Temporada 1: Capítulo 3:...</td>\n",
       "      <td>serie</td>\n",
       "      <td>Las chicas del cable</td>\n",
       "      <td>Temporada 1</td>\n",
       "      <td>Capítulo 3</td>\n",
       "      <td>Las mentiras</td>\n",
       "      <td>2019</td>\n",
       "      <td>June</td>\n",
       "      <td>6</td>\n",
       "      <td>30</td>\n",
       "      <td>Sunday</td>\n",
       "    </tr>\n",
       "    <tr>\n",
       "      <th>2019-06-30</th>\n",
       "      <td>Las chicas del cable: Temporada 1: Capítulo 2:...</td>\n",
       "      <td>serie</td>\n",
       "      <td>Las chicas del cable</td>\n",
       "      <td>Temporada 1</td>\n",
       "      <td>Capítulo 2</td>\n",
       "      <td>Los recuerdos</td>\n",
       "      <td>2019</td>\n",
       "      <td>June</td>\n",
       "      <td>6</td>\n",
       "      <td>30</td>\n",
       "      <td>Sunday</td>\n",
       "    </tr>\n",
       "    <tr>\n",
       "      <th>2019-06-29</th>\n",
       "      <td>Las chicas del cable: Temporada 1: Capítulo 1:...</td>\n",
       "      <td>serie</td>\n",
       "      <td>Las chicas del cable</td>\n",
       "      <td>Temporada 1</td>\n",
       "      <td>Capítulo 1</td>\n",
       "      <td>Los sueños</td>\n",
       "      <td>2019</td>\n",
       "      <td>June</td>\n",
       "      <td>6</td>\n",
       "      <td>29</td>\n",
       "      <td>Saturday</td>\n",
       "    </tr>\n",
       "  </tbody>\n",
       "</table>\n",
       "<p>3729 rows × 11 columns</p>\n",
       "</div>"
      ],
      "text/plain": [
       "                                                        Title      tipo  \\\n",
       "Date                                                                      \n",
       "2020-06-18                      Barbie y los delfines mágicos  pelicula   \n",
       "2020-06-18  Patrulla de cachorros: Temporada 2: Salvemos a...     serie   \n",
       "2020-06-17  Anatomía según Grey: Temporada 14: Súbete a mi...     serie   \n",
       "2020-06-17  Anatomía según Grey: Temporada 14: Zona de pel...     serie   \n",
       "2020-06-16                  Dark: Temporada 2: Materia oscura     serie   \n",
       "...                                                       ...       ...   \n",
       "2019-06-30  Las chicas del cable: Temporada 1: Capítulo 5:...     serie   \n",
       "2019-06-30  Las chicas del cable: Temporada 1: Capítulo 4:...     serie   \n",
       "2019-06-30  Las chicas del cable: Temporada 1: Capítulo 3:...     serie   \n",
       "2019-06-30  Las chicas del cable: Temporada 1: Capítulo 2:...     serie   \n",
       "2019-06-29  Las chicas del cable: Temporada 1: Capítulo 1:...     serie   \n",
       "\n",
       "                                   Titulo         nivel1  \\\n",
       "Date                                                       \n",
       "2020-06-18  Barbie y los delfines mágicos           None   \n",
       "2020-06-18          Patrulla de cachorros    Temporada 2   \n",
       "2020-06-17            Anatomía según Grey   Temporada 14   \n",
       "2020-06-17            Anatomía según Grey   Temporada 14   \n",
       "2020-06-16                           Dark    Temporada 2   \n",
       "...                                   ...            ...   \n",
       "2019-06-30           Las chicas del cable    Temporada 1   \n",
       "2019-06-30           Las chicas del cable    Temporada 1   \n",
       "2019-06-30           Las chicas del cable    Temporada 1   \n",
       "2019-06-30           Las chicas del cable    Temporada 1   \n",
       "2019-06-29           Las chicas del cable    Temporada 1   \n",
       "\n",
       "                                                       nivel2  \\\n",
       "Date                                                            \n",
       "2020-06-18                                               None   \n",
       "2020-06-18   Salvemos a los pingüinos / El rescate del delfín   \n",
       "2020-06-17                          Súbete a mi barco, cariño   \n",
       "2020-06-17                                    Zona de peligro   \n",
       "2020-06-16                                     Materia oscura   \n",
       "...                                                       ...   \n",
       "2019-06-30                                         Capítulo 5   \n",
       "2019-06-30                                         Capítulo 4   \n",
       "2019-06-30                                         Capítulo 3   \n",
       "2019-06-30                                         Capítulo 2   \n",
       "2019-06-29                                         Capítulo 1   \n",
       "\n",
       "                       nivel3   año   mes  mes_num  dia_mes dia_semana  \n",
       "Date                                                                    \n",
       "2020-06-18               None  2020  June        6       18   Thursday  \n",
       "2020-06-18               None  2020  June        6       18   Thursday  \n",
       "2020-06-17               None  2020  June        6       17  Wednesday  \n",
       "2020-06-17               None  2020  June        6       17  Wednesday  \n",
       "2020-06-16               None  2020  June        6       16    Tuesday  \n",
       "...                       ...   ...   ...      ...      ...        ...  \n",
       "2019-06-30          El pasado  2019  June        6       30     Sunday  \n",
       "2019-06-30   Los sentimientos  2019  June        6       30     Sunday  \n",
       "2019-06-30       Las mentiras  2019  June        6       30     Sunday  \n",
       "2019-06-30      Los recuerdos  2019  June        6       30     Sunday  \n",
       "2019-06-29         Los sueños  2019  June        6       29   Saturday  \n",
       "\n",
       "[3729 rows x 11 columns]"
      ]
     },
     "execution_count": 63,
     "metadata": {},
     "output_type": "execute_result"
    }
   ],
   "source": [
    "ext_fecha(df)"
   ]
  },
  {
   "cell_type": "markdown",
   "id": "7d815f38",
   "metadata": {},
   "source": [
    "## Análisis"
   ]
  },
  {
   "cell_type": "markdown",
   "id": "2ed89aed",
   "metadata": {},
   "source": [
    "### Cuanto tiempo lleva contratado netflix"
   ]
  },
  {
   "cell_type": "code",
   "execution_count": 64,
   "id": "21924ee4",
   "metadata": {},
   "outputs": [],
   "source": [
    "from datetime import date"
   ]
  },
  {
   "cell_type": "code",
   "execution_count": 65,
   "id": "6d3264cd",
   "metadata": {},
   "outputs": [
    {
     "name": "stdout",
     "output_type": "stream",
     "text": [
      "El tiempo que llevas usando de Netflix es de 2908 dias\n"
     ]
    }
   ],
   "source": [
    "# crear variable de fecha el dia de hoy\n",
    "hoy = pd.Timestamp(date.today())\n",
    "\n",
    "#Buscar el primer dia de fecha de inicio\n",
    "primer_dia = df.index.min()\n",
    "\n",
    "#Calcular el tiempo\n",
    "tiempo = hoy - primer_dia\n",
    "\n",
    "print('El tiempo que llevas usando de Netflix es de {} dias'.format(tiempo.days))"
   ]
  },
  {
   "cell_type": "markdown",
   "id": "39aef5b8",
   "metadata": {},
   "source": [
    "### Cuanto gasto en Netflixt\n",
    "- El costo de netflix es de mesual: US$6.99\n",
    "- tasa del peso es de 58.61"
   ]
  },
  {
   "cell_type": "code",
   "execution_count": 66,
   "id": "367dd424",
   "metadata": {},
   "outputs": [
    {
     "name": "stdout",
     "output_type": "stream",
     "text": [
      "El gasto hasta ahora es de U$677.5640000000001 en pesos es de $39712.026040000004\n"
     ]
    }
   ],
   "source": [
    "costo_mensual = 6.99\n",
    "conversion = 6.99 * 58.61 \n",
    "gasto = tiempo.days/30 * costo_mensual\n",
    "en_pesos = tiempo.days/30 * conversion\n",
    "print('El gasto hasta ahora es de U${} en pesos es de ${}'.format(gasto, en_pesos))"
   ]
  },
  {
   "cell_type": "markdown",
   "id": "1a0fedb4",
   "metadata": {},
   "source": [
    "### Que tiempo le dedicas a Netflix  \n",
    "- Suponemos que una serie dura 45 minutos y una pelicula 100 minutos"
   ]
  },
  {
   "cell_type": "code",
   "execution_count": 67,
   "id": "84abc1f1",
   "metadata": {},
   "outputs": [],
   "source": [
    "serie = 45\n",
    "pelicula = 100"
   ]
  },
  {
   "cell_type": "code",
   "execution_count": 68,
   "id": "4c3519dd",
   "metadata": {},
   "outputs": [
    {
     "data": {
      "text/plain": [
       "serie       3303\n",
       "pelicula     426\n",
       "Name: tipo, dtype: int64"
      ]
     },
     "execution_count": 68,
     "metadata": {},
     "output_type": "execute_result"
    }
   ],
   "source": [
    "consumo = df['tipo'].value_counts()\n",
    "consumo"
   ]
  },
  {
   "cell_type": "code",
   "execution_count": 69,
   "id": "c18670ea",
   "metadata": {},
   "outputs": [
    {
     "name": "stdout",
     "output_type": "stream",
     "text": [
      "Al año le dedicas 103 dias en series y en peliculas le dedicas 30 dias\n"
     ]
    }
   ],
   "source": [
    "#calcular el minuto por peliculas\n",
    "min_peli = consumo['pelicula'] * pelicula\n",
    "\n",
    "#calcular el minuto por seires\n",
    "min_serie = consumo['serie'] * serie\n",
    "\n",
    "#calcular al año\n",
    "peli_ano = min_peli /60/24\n",
    "serie_ano = min_serie /60/24\n",
    "\n",
    "print('Al año le dedicas {} dias en series y en peliculas le dedicas {} dias'.format(round(serie_ano),\n",
    "                                                                                     round(peli_ano)))"
   ]
  },
  {
   "cell_type": "markdown",
   "id": "8ef3f0fb",
   "metadata": {},
   "source": [
    "### Cuales son las 10 series que has visto mas?"
   ]
  },
  {
   "cell_type": "code",
   "execution_count": 70,
   "id": "06081752",
   "metadata": {},
   "outputs": [
    {
     "data": {
      "image/png": "[encoded data removed]",
      "text/plain": [
       "<Figure size 432x288 with 1 Axes>"
      ]
     },
     "metadata": {
      "needs_background": "light"
     },
     "output_type": "display_data"
    }
   ],
   "source": [
    "df[df.tipo =='serie'].Titulo.value_counts().head(10).sort_values(ascending =True).plot.barh(cmap = 'Pastel1');"
   ]
  },
  {
   "cell_type": "markdown",
   "id": "73565bbc",
   "metadata": {},
   "source": [
    "### Cuales peliculas has visto mas?"
   ]
  },
  {
   "cell_type": "code",
   "execution_count": 71,
   "id": "9880e842",
   "metadata": {},
   "outputs": [
    {
     "data": {
      "image/png": "[encoded data removed]",
      "text/plain": [
       "<Figure size 432x288 with 1 Axes>"
      ]
     },
     "metadata": {
      "needs_background": "light"
     },
     "output_type": "display_data"
    },
    {
     "name": "stdout",
     "output_type": "stream",
     "text": [
      "Silvana sin lana           119\n",
      "Toy Story                    3\n",
      "Las crónicas de Navidad      3\n",
      "Carlos Ballarta              2\n",
      "Solteras                     2\n",
      "Klaus                        2\n",
      "El Camino                    2\n",
      "Inferno                      2\n",
      "Franco Escamilla             2\n",
      "Daniel Sosa                  2\n",
      "Name: Titulo, dtype: int64\n"
     ]
    }
   ],
   "source": [
    "df[df.tipo =='pelicula'].Titulo.value_counts().head(10).sort_values(ascending =True).plot.barh(cmap = 'Pastel1')\n",
    "plt.show()\n",
    "print(df[df.tipo =='pelicula'].Titulo.value_counts().head(10))"
   ]
  },
  {
   "cell_type": "markdown",
   "id": "2b7114c7",
   "metadata": {},
   "source": [
    "### Dia de la semana de mayor consumo?"
   ]
  },
  {
   "cell_type": "code",
   "execution_count": 72,
   "id": "a21b97d9",
   "metadata": {},
   "outputs": [
    {
     "data": {
      "text/plain": [
       "Index(['Title', 'tipo', 'Titulo', 'nivel1', 'nivel2', 'nivel3', 'año', 'mes',\n",
       "       'mes_num', 'dia_mes', 'dia_semana'],\n",
       "      dtype='object')"
      ]
     },
     "execution_count": 72,
     "metadata": {},
     "output_type": "execute_result"
    }
   ],
   "source": [
    "df.columns"
   ]
  },
  {
   "cell_type": "code",
   "execution_count": 73,
   "id": "4a407883",
   "metadata": {},
   "outputs": [
    {
     "data": {
      "image/png": "[encoded data removed]",
      "text/plain": [
       "<Figure size 576x288 with 1 Axes>"
      ]
     },
     "metadata": {
      "needs_background": "light"
     },
     "output_type": "display_data"
    },
    {
     "name": "stdout",
     "output_type": "stream",
     "text": [
      "Thursday     585\n",
      "Wednesday    580\n",
      "Saturday     576\n",
      "Monday       540\n",
      "Tuesday      505\n",
      "Friday       494\n",
      "Sunday       449\n",
      "Name: dia_semana, dtype: int64\n"
     ]
    }
   ],
   "source": [
    "plt.figure(figsize = [8,4])\n",
    "sns.countplot(x = df.dia_semana, color= 'pink')\n",
    "plt.show()\n",
    "\n",
    "print(df.dia_semana.value_counts())"
   ]
  },
  {
   "cell_type": "markdown",
   "id": "b814d8a7",
   "metadata": {},
   "source": [
    "### existen diferencias entre series y peliculas"
   ]
  },
  {
   "cell_type": "code",
   "execution_count": 74,
   "id": "a44b2d32",
   "metadata": {},
   "outputs": [
    {
     "data": {
      "image/png": "[encoded data removed]",
      "text/plain": [
       "<Figure size 576x288 with 1 Axes>"
      ]
     },
     "metadata": {
      "needs_background": "light"
     },
     "output_type": "display_data"
    }
   ],
   "source": [
    "plt.figure(figsize = [8,4])\n",
    "sns.countplot(x = df.dia_semana, hue = df.tipo, palette='pastel')\n",
    "plt.show()"
   ]
  },
  {
   "cell_type": "markdown",
   "id": "d19ef0b2",
   "metadata": {},
   "source": [
    "### Distribucion de las peliculas y series a lo largo del tiempo"
   ]
  },
  {
   "cell_type": "code",
   "execution_count": 123,
   "id": "32a11b0a",
   "metadata": {},
   "outputs": [
    {
     "data": {
      "image/png": "[encoded data removed]",
      "text/plain": [
       "<Figure size 432x288 with 1 Axes>"
      ]
     },
     "metadata": {
      "needs_background": "light"
     },
     "output_type": "display_data"
    }
   ],
   "source": [
    "s = df[['tipo']].replace('serie', 1).replace('pelicula',0)\n",
    "p = df[['tipo']].replace('serie', 0).replace('pelicula',1)\n",
    "\n",
    "s.groupby(s.index)['tipo'].sum().plot(kind = 'line', label= 'serie')\n",
    "p.groupby(s.index)['tipo'].sum().plot(kind = 'line', label = 'peliculas')\n",
    "\n",
    "plt.legend()\n",
    "plt.show()"
   ]
  },
  {
   "cell_type": "markdown",
   "id": "42e4f15f",
   "metadata": {},
   "source": [
    "### El consumo a lo largo del año es constante o hay meses de mayor consumo"
   ]
  },
  {
   "cell_type": "code",
   "execution_count": 75,
   "id": "4a143a13",
   "metadata": {
    "scrolled": false
   },
   "outputs": [
    {
     "data": {
      "image/png": "[encoded data removed]",
      "text/plain": [
       "<Figure size 1008x288 with 1 Axes>"
      ]
     },
     "metadata": {
      "needs_background": "light"
     },
     "output_type": "display_data"
    },
    {
     "name": "stdout",
     "output_type": "stream",
     "text": [
      "September    446\n",
      "October      423\n",
      "November     394\n",
      "December     384\n",
      "January      323\n",
      "August       312\n",
      "May          289\n",
      "February     251\n",
      "March        244\n",
      "April        241\n",
      "July         231\n",
      "June         191\n",
      "Name: mes, dtype: int64\n"
     ]
    }
   ],
   "source": [
    "plt.figure(figsize = [14,4])\n",
    "sns.countplot(x = df.mes, color ='pink')\n",
    "plt.show()\n",
    "print(df.mes.value_counts())"
   ]
  },
  {
   "cell_type": "markdown",
   "id": "87d409fd",
   "metadata": {},
   "source": [
    "### Año de mayor consumo"
   ]
  },
  {
   "cell_type": "code",
   "execution_count": 76,
   "id": "829ef535",
   "metadata": {},
   "outputs": [
    {
     "data": {
      "image/png": "[encoded data removed]",
      "text/plain": [
       "<Figure size 432x288 with 1 Axes>"
      ]
     },
     "metadata": {
      "needs_background": "light"
     },
     "output_type": "display_data"
    },
    {
     "name": "stdout",
     "output_type": "stream",
     "text": [
      "2019    1799\n",
      "2020    1009\n",
      "2018     526\n",
      "2017     309\n",
      "2021      76\n",
      "2016      10\n",
      "Name: año, dtype: int64\n"
     ]
    }
   ],
   "source": [
    "df.año.value_counts().plot.bar(cmap = 'Pastel1')\n",
    "plt.show()\n",
    "print(df.año.value_counts())"
   ]
  },
  {
   "cell_type": "markdown",
   "id": "5bbbce9c",
   "metadata": {},
   "source": [
    "## Exportar Datos"
   ]
  },
  {
   "cell_type": "code",
   "execution_count": 77,
   "id": "899cb7ac",
   "metadata": {},
   "outputs": [],
   "source": [
    "df.to_excel('data.xlsx')"
   ]
  }
 ],
 "metadata": {
  "kernelspec": {
   "display_name": "Python 3 (ipykernel)",
   "language": "python",
   "name": "python3"
  },
  "language_info": {
   "codemirror_mode": {
    "name": "ipython",
    "version": 3
   },
   "file_extension": ".py",
   "mimetype": "text/x-python",
   "name": "python",
   "nbconvert_exporter": "python",
   "pygments_lexer": "ipython3",
   "version": "3.8.8"
  }
 },
 "nbformat": 4,
 "nbformat_minor": 5
}
